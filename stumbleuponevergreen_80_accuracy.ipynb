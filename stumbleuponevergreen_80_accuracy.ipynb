{
  "nbformat": 4,
  "nbformat_minor": 0,
  "metadata": {
    "colab": {
      "name": "stumbleuponevergreen-80-accuracy.ipynb",
      "provenance": [],
      "collapsed_sections": [],
      "authorship_tag": "ABX9TyPXjRefs4c6OGmOgz54MA1u",
      "include_colab_link": true
    },
    "kernelspec": {
      "name": "python3",
      "display_name": "Python 3"
    },
    "accelerator": "GPU"
  },
  "cells": [
    {
      "cell_type": "markdown",
      "metadata": {
        "id": "view-in-github",
        "colab_type": "text"
      },
      "source": [
        "<a href=\"https://colab.research.google.com/github/buckyron/StumbleuponEvergreen/blob/master/stumbleuponevergreen_80_accuracy.ipynb\" target=\"_parent\"><img src=\"https://colab.research.google.com/assets/colab-badge.svg\" alt=\"Open In Colab\"/></a>"
      ]
    },
    {
      "cell_type": "code",
      "metadata": {
        "id": "_58AM_JO0EIr"
      },
      "source": [
        "from google.colab import drive"
      ],
      "execution_count": 1,
      "outputs": []
    },
    {
      "cell_type": "code",
      "metadata": {
        "colab": {
          "base_uri": "https://localhost:8080/"
        },
        "id": "IUgLO43V2Fq4",
        "outputId": "821104d1-33e3-4feb-ce54-36637fcb79e0"
      },
      "source": [
        "drive.mount('/content/drive')"
      ],
      "execution_count": 2,
      "outputs": [
        {
          "output_type": "stream",
          "text": [
            "Mounted at /content/drive\n"
          ],
          "name": "stdout"
        }
      ]
    },
    {
      "cell_type": "code",
      "metadata": {
        "id": "RM_QIQKZ2Ni1"
      },
      "source": [
        "import pandas as pd\n",
        "import numpy as np\n",
        "import nltk\n",
        "import textblob\n",
        "import re\n",
        "import spacy\n",
        "import unicodedata\n",
        "import string\n",
        "\n"
      ],
      "execution_count": 3,
      "outputs": []
    },
    {
      "cell_type": "code",
      "metadata": {
        "colab": {
          "base_uri": "https://localhost:8080/"
        },
        "id": "E-Zf9CDPgA7_",
        "outputId": "f848f69d-8a61-41c9-9436-f403235d3aa2"
      },
      "source": [
        "nltk.download('all')"
      ],
      "execution_count": 4,
      "outputs": [
        {
          "output_type": "stream",
          "text": [
            "[nltk_data] Downloading collection 'all'\n",
            "[nltk_data]    | \n",
            "[nltk_data]    | Downloading package abc to /root/nltk_data...\n",
            "[nltk_data]    |   Unzipping corpora/abc.zip.\n",
            "[nltk_data]    | Downloading package alpino to /root/nltk_data...\n",
            "[nltk_data]    |   Unzipping corpora/alpino.zip.\n",
            "[nltk_data]    | Downloading package biocreative_ppi to\n",
            "[nltk_data]    |     /root/nltk_data...\n",
            "[nltk_data]    |   Unzipping corpora/biocreative_ppi.zip.\n",
            "[nltk_data]    | Downloading package brown to /root/nltk_data...\n",
            "[nltk_data]    |   Unzipping corpora/brown.zip.\n",
            "[nltk_data]    | Downloading package brown_tei to /root/nltk_data...\n",
            "[nltk_data]    |   Unzipping corpora/brown_tei.zip.\n",
            "[nltk_data]    | Downloading package cess_cat to /root/nltk_data...\n",
            "[nltk_data]    |   Unzipping corpora/cess_cat.zip.\n",
            "[nltk_data]    | Downloading package cess_esp to /root/nltk_data...\n",
            "[nltk_data]    |   Unzipping corpora/cess_esp.zip.\n",
            "[nltk_data]    | Downloading package chat80 to /root/nltk_data...\n",
            "[nltk_data]    |   Unzipping corpora/chat80.zip.\n",
            "[nltk_data]    | Downloading package city_database to\n",
            "[nltk_data]    |     /root/nltk_data...\n",
            "[nltk_data]    |   Unzipping corpora/city_database.zip.\n",
            "[nltk_data]    | Downloading package cmudict to /root/nltk_data...\n",
            "[nltk_data]    |   Unzipping corpora/cmudict.zip.\n",
            "[nltk_data]    | Downloading package comparative_sentences to\n",
            "[nltk_data]    |     /root/nltk_data...\n",
            "[nltk_data]    |   Unzipping corpora/comparative_sentences.zip.\n",
            "[nltk_data]    | Downloading package comtrans to /root/nltk_data...\n",
            "[nltk_data]    | Downloading package conll2000 to /root/nltk_data...\n",
            "[nltk_data]    |   Unzipping corpora/conll2000.zip.\n",
            "[nltk_data]    | Downloading package conll2002 to /root/nltk_data...\n",
            "[nltk_data]    |   Unzipping corpora/conll2002.zip.\n",
            "[nltk_data]    | Downloading package conll2007 to /root/nltk_data...\n",
            "[nltk_data]    | Downloading package crubadan to /root/nltk_data...\n",
            "[nltk_data]    |   Unzipping corpora/crubadan.zip.\n",
            "[nltk_data]    | Downloading package dependency_treebank to\n",
            "[nltk_data]    |     /root/nltk_data...\n",
            "[nltk_data]    |   Unzipping corpora/dependency_treebank.zip.\n",
            "[nltk_data]    | Downloading package dolch to /root/nltk_data...\n",
            "[nltk_data]    |   Unzipping corpora/dolch.zip.\n",
            "[nltk_data]    | Downloading package europarl_raw to\n",
            "[nltk_data]    |     /root/nltk_data...\n",
            "[nltk_data]    |   Unzipping corpora/europarl_raw.zip.\n",
            "[nltk_data]    | Downloading package floresta to /root/nltk_data...\n",
            "[nltk_data]    |   Unzipping corpora/floresta.zip.\n",
            "[nltk_data]    | Downloading package framenet_v15 to\n",
            "[nltk_data]    |     /root/nltk_data...\n",
            "[nltk_data]    |   Unzipping corpora/framenet_v15.zip.\n",
            "[nltk_data]    | Downloading package framenet_v17 to\n",
            "[nltk_data]    |     /root/nltk_data...\n",
            "[nltk_data]    |   Unzipping corpora/framenet_v17.zip.\n",
            "[nltk_data]    | Downloading package gazetteers to /root/nltk_data...\n",
            "[nltk_data]    |   Unzipping corpora/gazetteers.zip.\n",
            "[nltk_data]    | Downloading package genesis to /root/nltk_data...\n",
            "[nltk_data]    |   Unzipping corpora/genesis.zip.\n",
            "[nltk_data]    | Downloading package gutenberg to /root/nltk_data...\n",
            "[nltk_data]    |   Unzipping corpora/gutenberg.zip.\n",
            "[nltk_data]    | Downloading package ieer to /root/nltk_data...\n",
            "[nltk_data]    |   Unzipping corpora/ieer.zip.\n",
            "[nltk_data]    | Downloading package inaugural to /root/nltk_data...\n",
            "[nltk_data]    |   Unzipping corpora/inaugural.zip.\n",
            "[nltk_data]    | Downloading package indian to /root/nltk_data...\n",
            "[nltk_data]    |   Unzipping corpora/indian.zip.\n",
            "[nltk_data]    | Downloading package jeita to /root/nltk_data...\n",
            "[nltk_data]    | Downloading package kimmo to /root/nltk_data...\n",
            "[nltk_data]    |   Unzipping corpora/kimmo.zip.\n",
            "[nltk_data]    | Downloading package knbc to /root/nltk_data...\n",
            "[nltk_data]    | Downloading package lin_thesaurus to\n",
            "[nltk_data]    |     /root/nltk_data...\n",
            "[nltk_data]    |   Unzipping corpora/lin_thesaurus.zip.\n",
            "[nltk_data]    | Downloading package mac_morpho to /root/nltk_data...\n",
            "[nltk_data]    |   Unzipping corpora/mac_morpho.zip.\n",
            "[nltk_data]    | Downloading package machado to /root/nltk_data...\n",
            "[nltk_data]    | Downloading package masc_tagged to /root/nltk_data...\n",
            "[nltk_data]    | Downloading package moses_sample to\n",
            "[nltk_data]    |     /root/nltk_data...\n",
            "[nltk_data]    |   Unzipping models/moses_sample.zip.\n",
            "[nltk_data]    | Downloading package movie_reviews to\n",
            "[nltk_data]    |     /root/nltk_data...\n",
            "[nltk_data]    |   Unzipping corpora/movie_reviews.zip.\n",
            "[nltk_data]    | Downloading package names to /root/nltk_data...\n",
            "[nltk_data]    |   Unzipping corpora/names.zip.\n",
            "[nltk_data]    | Downloading package nombank.1.0 to /root/nltk_data...\n",
            "[nltk_data]    | Downloading package nps_chat to /root/nltk_data...\n",
            "[nltk_data]    |   Unzipping corpora/nps_chat.zip.\n",
            "[nltk_data]    | Downloading package omw to /root/nltk_data...\n",
            "[nltk_data]    |   Unzipping corpora/omw.zip.\n",
            "[nltk_data]    | Downloading package opinion_lexicon to\n",
            "[nltk_data]    |     /root/nltk_data...\n",
            "[nltk_data]    |   Unzipping corpora/opinion_lexicon.zip.\n",
            "[nltk_data]    | Downloading package paradigms to /root/nltk_data...\n",
            "[nltk_data]    |   Unzipping corpora/paradigms.zip.\n",
            "[nltk_data]    | Downloading package pil to /root/nltk_data...\n",
            "[nltk_data]    |   Unzipping corpora/pil.zip.\n",
            "[nltk_data]    | Downloading package pl196x to /root/nltk_data...\n",
            "[nltk_data]    |   Unzipping corpora/pl196x.zip.\n",
            "[nltk_data]    | Downloading package ppattach to /root/nltk_data...\n",
            "[nltk_data]    |   Unzipping corpora/ppattach.zip.\n",
            "[nltk_data]    | Downloading package problem_reports to\n",
            "[nltk_data]    |     /root/nltk_data...\n",
            "[nltk_data]    |   Unzipping corpora/problem_reports.zip.\n",
            "[nltk_data]    | Downloading package propbank to /root/nltk_data...\n",
            "[nltk_data]    | Downloading package ptb to /root/nltk_data...\n",
            "[nltk_data]    |   Unzipping corpora/ptb.zip.\n",
            "[nltk_data]    | Downloading package product_reviews_1 to\n",
            "[nltk_data]    |     /root/nltk_data...\n",
            "[nltk_data]    |   Unzipping corpora/product_reviews_1.zip.\n",
            "[nltk_data]    | Downloading package product_reviews_2 to\n",
            "[nltk_data]    |     /root/nltk_data...\n",
            "[nltk_data]    |   Unzipping corpora/product_reviews_2.zip.\n",
            "[nltk_data]    | Downloading package pros_cons to /root/nltk_data...\n",
            "[nltk_data]    |   Unzipping corpora/pros_cons.zip.\n",
            "[nltk_data]    | Downloading package qc to /root/nltk_data...\n",
            "[nltk_data]    |   Unzipping corpora/qc.zip.\n",
            "[nltk_data]    | Downloading package reuters to /root/nltk_data...\n",
            "[nltk_data]    | Downloading package rte to /root/nltk_data...\n",
            "[nltk_data]    |   Unzipping corpora/rte.zip.\n",
            "[nltk_data]    | Downloading package semcor to /root/nltk_data...\n",
            "[nltk_data]    | Downloading package senseval to /root/nltk_data...\n",
            "[nltk_data]    |   Unzipping corpora/senseval.zip.\n",
            "[nltk_data]    | Downloading package sentiwordnet to\n",
            "[nltk_data]    |     /root/nltk_data...\n",
            "[nltk_data]    |   Unzipping corpora/sentiwordnet.zip.\n",
            "[nltk_data]    | Downloading package sentence_polarity to\n",
            "[nltk_data]    |     /root/nltk_data...\n",
            "[nltk_data]    |   Unzipping corpora/sentence_polarity.zip.\n",
            "[nltk_data]    | Downloading package shakespeare to /root/nltk_data...\n",
            "[nltk_data]    |   Unzipping corpora/shakespeare.zip.\n",
            "[nltk_data]    | Downloading package sinica_treebank to\n",
            "[nltk_data]    |     /root/nltk_data...\n",
            "[nltk_data]    |   Unzipping corpora/sinica_treebank.zip.\n",
            "[nltk_data]    | Downloading package smultron to /root/nltk_data...\n",
            "[nltk_data]    |   Unzipping corpora/smultron.zip.\n",
            "[nltk_data]    | Downloading package state_union to /root/nltk_data...\n",
            "[nltk_data]    |   Unzipping corpora/state_union.zip.\n",
            "[nltk_data]    | Downloading package stopwords to /root/nltk_data...\n",
            "[nltk_data]    |   Unzipping corpora/stopwords.zip.\n",
            "[nltk_data]    | Downloading package subjectivity to\n",
            "[nltk_data]    |     /root/nltk_data...\n",
            "[nltk_data]    |   Unzipping corpora/subjectivity.zip.\n",
            "[nltk_data]    | Downloading package swadesh to /root/nltk_data...\n",
            "[nltk_data]    |   Unzipping corpora/swadesh.zip.\n",
            "[nltk_data]    | Downloading package switchboard to /root/nltk_data...\n",
            "[nltk_data]    |   Unzipping corpora/switchboard.zip.\n",
            "[nltk_data]    | Downloading package timit to /root/nltk_data...\n",
            "[nltk_data]    |   Unzipping corpora/timit.zip.\n",
            "[nltk_data]    | Downloading package toolbox to /root/nltk_data...\n",
            "[nltk_data]    |   Unzipping corpora/toolbox.zip.\n",
            "[nltk_data]    | Downloading package treebank to /root/nltk_data...\n",
            "[nltk_data]    |   Unzipping corpora/treebank.zip.\n",
            "[nltk_data]    | Downloading package twitter_samples to\n",
            "[nltk_data]    |     /root/nltk_data...\n",
            "[nltk_data]    |   Unzipping corpora/twitter_samples.zip.\n",
            "[nltk_data]    | Downloading package udhr to /root/nltk_data...\n",
            "[nltk_data]    |   Unzipping corpora/udhr.zip.\n",
            "[nltk_data]    | Downloading package udhr2 to /root/nltk_data...\n",
            "[nltk_data]    |   Unzipping corpora/udhr2.zip.\n",
            "[nltk_data]    | Downloading package unicode_samples to\n",
            "[nltk_data]    |     /root/nltk_data...\n",
            "[nltk_data]    |   Unzipping corpora/unicode_samples.zip.\n",
            "[nltk_data]    | Downloading package universal_treebanks_v20 to\n",
            "[nltk_data]    |     /root/nltk_data...\n",
            "[nltk_data]    | Downloading package verbnet to /root/nltk_data...\n",
            "[nltk_data]    |   Unzipping corpora/verbnet.zip.\n",
            "[nltk_data]    | Downloading package verbnet3 to /root/nltk_data...\n",
            "[nltk_data]    |   Unzipping corpora/verbnet3.zip.\n",
            "[nltk_data]    | Downloading package webtext to /root/nltk_data...\n",
            "[nltk_data]    |   Unzipping corpora/webtext.zip.\n",
            "[nltk_data]    | Downloading package wordnet to /root/nltk_data...\n",
            "[nltk_data]    |   Unzipping corpora/wordnet.zip.\n",
            "[nltk_data]    | Downloading package wordnet_ic to /root/nltk_data...\n",
            "[nltk_data]    |   Unzipping corpora/wordnet_ic.zip.\n",
            "[nltk_data]    | Downloading package words to /root/nltk_data...\n",
            "[nltk_data]    |   Unzipping corpora/words.zip.\n",
            "[nltk_data]    | Downloading package ycoe to /root/nltk_data...\n",
            "[nltk_data]    |   Unzipping corpora/ycoe.zip.\n",
            "[nltk_data]    | Downloading package rslp to /root/nltk_data...\n",
            "[nltk_data]    |   Unzipping stemmers/rslp.zip.\n",
            "[nltk_data]    | Downloading package maxent_treebank_pos_tagger to\n",
            "[nltk_data]    |     /root/nltk_data...\n",
            "[nltk_data]    |   Unzipping taggers/maxent_treebank_pos_tagger.zip.\n",
            "[nltk_data]    | Downloading package universal_tagset to\n",
            "[nltk_data]    |     /root/nltk_data...\n",
            "[nltk_data]    |   Unzipping taggers/universal_tagset.zip.\n",
            "[nltk_data]    | Downloading package maxent_ne_chunker to\n",
            "[nltk_data]    |     /root/nltk_data...\n",
            "[nltk_data]    |   Unzipping chunkers/maxent_ne_chunker.zip.\n",
            "[nltk_data]    | Downloading package punkt to /root/nltk_data...\n",
            "[nltk_data]    |   Unzipping tokenizers/punkt.zip.\n",
            "[nltk_data]    | Downloading package book_grammars to\n",
            "[nltk_data]    |     /root/nltk_data...\n",
            "[nltk_data]    |   Unzipping grammars/book_grammars.zip.\n",
            "[nltk_data]    | Downloading package sample_grammars to\n",
            "[nltk_data]    |     /root/nltk_data...\n",
            "[nltk_data]    |   Unzipping grammars/sample_grammars.zip.\n",
            "[nltk_data]    | Downloading package spanish_grammars to\n",
            "[nltk_data]    |     /root/nltk_data...\n",
            "[nltk_data]    |   Unzipping grammars/spanish_grammars.zip.\n",
            "[nltk_data]    | Downloading package basque_grammars to\n",
            "[nltk_data]    |     /root/nltk_data...\n",
            "[nltk_data]    |   Unzipping grammars/basque_grammars.zip.\n",
            "[nltk_data]    | Downloading package large_grammars to\n",
            "[nltk_data]    |     /root/nltk_data...\n",
            "[nltk_data]    |   Unzipping grammars/large_grammars.zip.\n",
            "[nltk_data]    | Downloading package tagsets to /root/nltk_data...\n",
            "[nltk_data]    |   Unzipping help/tagsets.zip.\n",
            "[nltk_data]    | Downloading package snowball_data to\n",
            "[nltk_data]    |     /root/nltk_data...\n",
            "[nltk_data]    | Downloading package bllip_wsj_no_aux to\n",
            "[nltk_data]    |     /root/nltk_data...\n",
            "[nltk_data]    |   Unzipping models/bllip_wsj_no_aux.zip.\n",
            "[nltk_data]    | Downloading package word2vec_sample to\n",
            "[nltk_data]    |     /root/nltk_data...\n",
            "[nltk_data]    |   Unzipping models/word2vec_sample.zip.\n",
            "[nltk_data]    | Downloading package panlex_swadesh to\n",
            "[nltk_data]    |     /root/nltk_data...\n",
            "[nltk_data]    | Downloading package mte_teip5 to /root/nltk_data...\n",
            "[nltk_data]    |   Unzipping corpora/mte_teip5.zip.\n",
            "[nltk_data]    | Downloading package averaged_perceptron_tagger to\n",
            "[nltk_data]    |     /root/nltk_data...\n",
            "[nltk_data]    |   Unzipping taggers/averaged_perceptron_tagger.zip.\n",
            "[nltk_data]    | Downloading package averaged_perceptron_tagger_ru to\n",
            "[nltk_data]    |     /root/nltk_data...\n",
            "[nltk_data]    |   Unzipping\n",
            "[nltk_data]    |       taggers/averaged_perceptron_tagger_ru.zip.\n",
            "[nltk_data]    | Downloading package perluniprops to\n",
            "[nltk_data]    |     /root/nltk_data...\n",
            "[nltk_data]    |   Unzipping misc/perluniprops.zip.\n",
            "[nltk_data]    | Downloading package nonbreaking_prefixes to\n",
            "[nltk_data]    |     /root/nltk_data...\n",
            "[nltk_data]    |   Unzipping corpora/nonbreaking_prefixes.zip.\n",
            "[nltk_data]    | Downloading package vader_lexicon to\n",
            "[nltk_data]    |     /root/nltk_data...\n",
            "[nltk_data]    | Downloading package porter_test to /root/nltk_data...\n",
            "[nltk_data]    |   Unzipping stemmers/porter_test.zip.\n",
            "[nltk_data]    | Downloading package wmt15_eval to /root/nltk_data...\n",
            "[nltk_data]    |   Unzipping models/wmt15_eval.zip.\n",
            "[nltk_data]    | Downloading package mwa_ppdb to /root/nltk_data...\n",
            "[nltk_data]    |   Unzipping misc/mwa_ppdb.zip.\n",
            "[nltk_data]    | \n",
            "[nltk_data]  Done downloading collection all\n"
          ],
          "name": "stdout"
        },
        {
          "output_type": "execute_result",
          "data": {
            "text/plain": [
              "True"
            ]
          },
          "metadata": {
            "tags": []
          },
          "execution_count": 4
        }
      ]
    },
    {
      "cell_type": "code",
      "metadata": {
        "colab": {
          "base_uri": "https://localhost:8080/"
        },
        "id": "RWofxCuUdPy4",
        "outputId": "8c22faa5-2279-4c4e-e4c9-1d8a6e748c99"
      },
      "source": [
        "!python -m textblob.download_corpora"
      ],
      "execution_count": 5,
      "outputs": [
        {
          "output_type": "stream",
          "text": [
            "[nltk_data] Downloading package brown to /root/nltk_data...\n",
            "[nltk_data]   Package brown is already up-to-date!\n",
            "[nltk_data] Downloading package punkt to /root/nltk_data...\n",
            "[nltk_data]   Package punkt is already up-to-date!\n",
            "[nltk_data] Downloading package wordnet to /root/nltk_data...\n",
            "[nltk_data]   Package wordnet is already up-to-date!\n",
            "[nltk_data] Downloading package averaged_perceptron_tagger to\n",
            "[nltk_data]     /root/nltk_data...\n",
            "[nltk_data]   Package averaged_perceptron_tagger is already up-to-\n",
            "[nltk_data]       date!\n",
            "[nltk_data] Downloading package conll2000 to /root/nltk_data...\n",
            "[nltk_data]   Package conll2000 is already up-to-date!\n",
            "[nltk_data] Downloading package movie_reviews to /root/nltk_data...\n",
            "[nltk_data]   Package movie_reviews is already up-to-date!\n",
            "Finished.\n"
          ],
          "name": "stdout"
        }
      ]
    },
    {
      "cell_type": "code",
      "metadata": {
        "id": "ddln4919UAST"
      },
      "source": [
        "import tensorflow as tf\n",
        "\n",
        "from tensorflow.keras.preprocessing.text import Tokenizer\n",
        "from tensorflow.keras.preprocessing.sequence import pad_sequences"
      ],
      "execution_count": 6,
      "outputs": []
    },
    {
      "cell_type": "code",
      "metadata": {
        "colab": {
          "base_uri": "https://localhost:8080/",
          "height": 484
        },
        "id": "5w0gqZWsWJjd",
        "outputId": "2e5a18cc-5d12-453f-f61a-9fcf1eb9a00d"
      },
      "source": [
        "df = pd.read_csv('/content/drive/MyDrive/StumbleUponEvergreen/train.tsv',sep = '\\t', header = 0)\n",
        "df.head()"
      ],
      "execution_count": null,
      "outputs": [
        {
          "output_type": "execute_result",
          "data": {
            "text/html": [
              "<div>\n",
              "<style scoped>\n",
              "    .dataframe tbody tr th:only-of-type {\n",
              "        vertical-align: middle;\n",
              "    }\n",
              "\n",
              "    .dataframe tbody tr th {\n",
              "        vertical-align: top;\n",
              "    }\n",
              "\n",
              "    .dataframe thead th {\n",
              "        text-align: right;\n",
              "    }\n",
              "</style>\n",
              "<table border=\"1\" class=\"dataframe\">\n",
              "  <thead>\n",
              "    <tr style=\"text-align: right;\">\n",
              "      <th></th>\n",
              "      <th>url</th>\n",
              "      <th>urlid</th>\n",
              "      <th>boilerplate</th>\n",
              "      <th>alchemy_category</th>\n",
              "      <th>alchemy_category_score</th>\n",
              "      <th>avglinksize</th>\n",
              "      <th>commonlinkratio_1</th>\n",
              "      <th>commonlinkratio_2</th>\n",
              "      <th>commonlinkratio_3</th>\n",
              "      <th>commonlinkratio_4</th>\n",
              "      <th>compression_ratio</th>\n",
              "      <th>embed_ratio</th>\n",
              "      <th>framebased</th>\n",
              "      <th>frameTagRatio</th>\n",
              "      <th>hasDomainLink</th>\n",
              "      <th>html_ratio</th>\n",
              "      <th>image_ratio</th>\n",
              "      <th>is_news</th>\n",
              "      <th>lengthyLinkDomain</th>\n",
              "      <th>linkwordscore</th>\n",
              "      <th>news_front_page</th>\n",
              "      <th>non_markup_alphanum_characters</th>\n",
              "      <th>numberOfLinks</th>\n",
              "      <th>numwords_in_url</th>\n",
              "      <th>parametrizedLinkRatio</th>\n",
              "      <th>spelling_errors_ratio</th>\n",
              "      <th>label</th>\n",
              "    </tr>\n",
              "  </thead>\n",
              "  <tbody>\n",
              "    <tr>\n",
              "      <th>0</th>\n",
              "      <td>http://www.bloomberg.com/news/2010-12-23/ibm-p...</td>\n",
              "      <td>4042</td>\n",
              "      <td>{\"title\":\"IBM Sees Holographic Calls Air Breat...</td>\n",
              "      <td>business</td>\n",
              "      <td>0.789131</td>\n",
              "      <td>2.055556</td>\n",
              "      <td>0.676471</td>\n",
              "      <td>0.205882</td>\n",
              "      <td>0.047059</td>\n",
              "      <td>0.023529</td>\n",
              "      <td>0.443783</td>\n",
              "      <td>0.0</td>\n",
              "      <td>0</td>\n",
              "      <td>0.090774</td>\n",
              "      <td>0</td>\n",
              "      <td>0.245831</td>\n",
              "      <td>0.003883</td>\n",
              "      <td>1</td>\n",
              "      <td>1</td>\n",
              "      <td>24</td>\n",
              "      <td>0</td>\n",
              "      <td>5424</td>\n",
              "      <td>170</td>\n",
              "      <td>8</td>\n",
              "      <td>0.152941</td>\n",
              "      <td>0.079130</td>\n",
              "      <td>0</td>\n",
              "    </tr>\n",
              "    <tr>\n",
              "      <th>1</th>\n",
              "      <td>http://www.popsci.com/technology/article/2012-...</td>\n",
              "      <td>8471</td>\n",
              "      <td>{\"title\":\"The Fully Electronic Futuristic Star...</td>\n",
              "      <td>recreation</td>\n",
              "      <td>0.574147</td>\n",
              "      <td>3.677966</td>\n",
              "      <td>0.508021</td>\n",
              "      <td>0.288770</td>\n",
              "      <td>0.213904</td>\n",
              "      <td>0.144385</td>\n",
              "      <td>0.468649</td>\n",
              "      <td>0.0</td>\n",
              "      <td>0</td>\n",
              "      <td>0.098707</td>\n",
              "      <td>0</td>\n",
              "      <td>0.203490</td>\n",
              "      <td>0.088652</td>\n",
              "      <td>1</td>\n",
              "      <td>1</td>\n",
              "      <td>40</td>\n",
              "      <td>0</td>\n",
              "      <td>4973</td>\n",
              "      <td>187</td>\n",
              "      <td>9</td>\n",
              "      <td>0.181818</td>\n",
              "      <td>0.125448</td>\n",
              "      <td>1</td>\n",
              "    </tr>\n",
              "    <tr>\n",
              "      <th>2</th>\n",
              "      <td>http://www.menshealth.com/health/flu-fighting-...</td>\n",
              "      <td>1164</td>\n",
              "      <td>{\"title\":\"Fruits that Fight the Flu fruits tha...</td>\n",
              "      <td>health</td>\n",
              "      <td>0.996526</td>\n",
              "      <td>2.382883</td>\n",
              "      <td>0.562016</td>\n",
              "      <td>0.321705</td>\n",
              "      <td>0.120155</td>\n",
              "      <td>0.042636</td>\n",
              "      <td>0.525448</td>\n",
              "      <td>0.0</td>\n",
              "      <td>0</td>\n",
              "      <td>0.072448</td>\n",
              "      <td>0</td>\n",
              "      <td>0.226402</td>\n",
              "      <td>0.120536</td>\n",
              "      <td>1</td>\n",
              "      <td>1</td>\n",
              "      <td>55</td>\n",
              "      <td>0</td>\n",
              "      <td>2240</td>\n",
              "      <td>258</td>\n",
              "      <td>11</td>\n",
              "      <td>0.166667</td>\n",
              "      <td>0.057613</td>\n",
              "      <td>1</td>\n",
              "    </tr>\n",
              "    <tr>\n",
              "      <th>3</th>\n",
              "      <td>http://www.dumblittleman.com/2007/12/10-foolpr...</td>\n",
              "      <td>6684</td>\n",
              "      <td>{\"title\":\"10 Foolproof Tips for Better Sleep \"...</td>\n",
              "      <td>health</td>\n",
              "      <td>0.801248</td>\n",
              "      <td>1.543103</td>\n",
              "      <td>0.400000</td>\n",
              "      <td>0.100000</td>\n",
              "      <td>0.016667</td>\n",
              "      <td>0.000000</td>\n",
              "      <td>0.480725</td>\n",
              "      <td>0.0</td>\n",
              "      <td>0</td>\n",
              "      <td>0.095861</td>\n",
              "      <td>0</td>\n",
              "      <td>0.265656</td>\n",
              "      <td>0.035343</td>\n",
              "      <td>1</td>\n",
              "      <td>0</td>\n",
              "      <td>24</td>\n",
              "      <td>0</td>\n",
              "      <td>2737</td>\n",
              "      <td>120</td>\n",
              "      <td>5</td>\n",
              "      <td>0.041667</td>\n",
              "      <td>0.100858</td>\n",
              "      <td>1</td>\n",
              "    </tr>\n",
              "    <tr>\n",
              "      <th>4</th>\n",
              "      <td>http://bleacherreport.com/articles/1205138-the...</td>\n",
              "      <td>9006</td>\n",
              "      <td>{\"title\":\"The 50 Coolest Jerseys You Didn t Kn...</td>\n",
              "      <td>sports</td>\n",
              "      <td>0.719157</td>\n",
              "      <td>2.676471</td>\n",
              "      <td>0.500000</td>\n",
              "      <td>0.222222</td>\n",
              "      <td>0.123457</td>\n",
              "      <td>0.043210</td>\n",
              "      <td>0.446143</td>\n",
              "      <td>0.0</td>\n",
              "      <td>0</td>\n",
              "      <td>0.024908</td>\n",
              "      <td>0</td>\n",
              "      <td>0.228887</td>\n",
              "      <td>0.050473</td>\n",
              "      <td>1</td>\n",
              "      <td>1</td>\n",
              "      <td>14</td>\n",
              "      <td>0</td>\n",
              "      <td>12032</td>\n",
              "      <td>162</td>\n",
              "      <td>10</td>\n",
              "      <td>0.098765</td>\n",
              "      <td>0.082569</td>\n",
              "      <td>0</td>\n",
              "    </tr>\n",
              "  </tbody>\n",
              "</table>\n",
              "</div>"
            ],
            "text/plain": [
              "                                                 url  ...  label\n",
              "0  http://www.bloomberg.com/news/2010-12-23/ibm-p...  ...      0\n",
              "1  http://www.popsci.com/technology/article/2012-...  ...      1\n",
              "2  http://www.menshealth.com/health/flu-fighting-...  ...      1\n",
              "3  http://www.dumblittleman.com/2007/12/10-foolpr...  ...      1\n",
              "4  http://bleacherreport.com/articles/1205138-the...  ...      0\n",
              "\n",
              "[5 rows x 27 columns]"
            ]
          },
          "metadata": {
            "tags": []
          },
          "execution_count": 7
        }
      ]
    },
    {
      "cell_type": "code",
      "metadata": {
        "id": "LRLKMOyHORKV"
      },
      "source": [
        "from nltk.corpus import stopwords\n",
        "from nltk.stem import WordNetLemmatizer\n",
        "from textblob import TextBlob\n",
        "from nltk.stem.snowball import SnowballStemmer\n",
        "from nltk import RegexpParser\n",
        "stemmer = SnowballStemmer(\"english\")\n",
        "stop_words = stopwords.words(\"english\")\n",
        "\n",
        "\n",
        "\n",
        "def clean_text(x):\n",
        "\n",
        "  # remove punctuations.\n",
        "  x = re.sub('[%s]' % re.escape(string.punctuation), ' ', x)\n",
        "\n",
        "  # remove stopwords.\n",
        "  x = ' '.join([word for word in x.split() if word not in stop_words])\n",
        "\n",
        "  # remove numbers.\n",
        "  x = re.sub(r\"^\\d+\\s|\\s\\d+\\s|\\s\\d+$\", \" \", x)\n",
        "  x = re.sub(r'\\d+', '', x)\n",
        "\n",
        "  # remove urls.\n",
        "  x = re.sub(r'(http|ftp|https|ssh)://([\\w_-]+(?:(?:\\.[\\w_-]+)+))([\\w.,@?^=%&:/~+#-]*[\\w@?^=%&/~+#-])?', '', x)\n",
        "  \n",
        "  # remove mail ids.\n",
        "  x = re.sub(r'\\S*@\\S*\\s?', '', x)\n",
        "  \n",
        "  # remove accented characters.\n",
        "  x = unicodedata.normalize('NFKD',x).encode('ascii', 'ignore').decode('utf-8', 'ignore')\n",
        "\n",
        "  # remove nouns and delimeters.\n",
        "  tagged_sentence = nltk.tag.pos_tag(x.split())\n",
        "  x = ' '.join([word for word,tag in tagged_sentence if tag != 'NNP' and tag != 'NNPS' and tag != 'NNS' and tag != 'NN' and tag != 'DT' and tag != 'WP' and tag != 'PRP' and tag != 'PRPS'])\n",
        "  \n",
        "  # lemmatize the sentences.\n",
        "  lemmatizer=WordNetLemmatizer()\n",
        "  x = ' '.join([lemmatizer.lemmatize(word) for word in x.split()])\n",
        "\n",
        "  return x\n",
        "\n",
        "\n",
        "\n",
        "\n"
      ],
      "execution_count": 7,
      "outputs": []
    },
    {
      "cell_type": "code",
      "metadata": {
        "id": "dXGIYf1BevSS"
      },
      "source": [
        "df['clean_boilerplate'] = df.boilerplate.apply(clean_text)"
      ],
      "execution_count": null,
      "outputs": []
    },
    {
      "cell_type": "code",
      "metadata": {
        "id": "Twz2E1clPULv"
      },
      "source": [
        "# write the clean data to a new csv.\n",
        "df.to_csv('/content/drive/MyDrive/StumbleUponEvergreen/clean_train.csv')"
      ],
      "execution_count": null,
      "outputs": []
    },
    {
      "cell_type": "code",
      "metadata": {
        "colab": {
          "base_uri": "https://localhost:8080/",
          "height": 501
        },
        "id": "6bogPc23_sRi",
        "outputId": "d187b7ff-05ba-4a7f-bcfb-1918746c37f6"
      },
      "source": [
        "df = pd.read_csv('/content/drive/MyDrive/StumbleUponEvergreen/clean_train.csv',sep = ',', header = 0)\n",
        "df.head()"
      ],
      "execution_count": 8,
      "outputs": [
        {
          "output_type": "execute_result",
          "data": {
            "text/html": [
              "<div>\n",
              "<style scoped>\n",
              "    .dataframe tbody tr th:only-of-type {\n",
              "        vertical-align: middle;\n",
              "    }\n",
              "\n",
              "    .dataframe tbody tr th {\n",
              "        vertical-align: top;\n",
              "    }\n",
              "\n",
              "    .dataframe thead th {\n",
              "        text-align: right;\n",
              "    }\n",
              "</style>\n",
              "<table border=\"1\" class=\"dataframe\">\n",
              "  <thead>\n",
              "    <tr style=\"text-align: right;\">\n",
              "      <th></th>\n",
              "      <th>Unnamed: 0</th>\n",
              "      <th>url</th>\n",
              "      <th>urlid</th>\n",
              "      <th>boilerplate</th>\n",
              "      <th>alchemy_category</th>\n",
              "      <th>alchemy_category_score</th>\n",
              "      <th>avglinksize</th>\n",
              "      <th>commonlinkratio_1</th>\n",
              "      <th>commonlinkratio_2</th>\n",
              "      <th>commonlinkratio_3</th>\n",
              "      <th>commonlinkratio_4</th>\n",
              "      <th>compression_ratio</th>\n",
              "      <th>embed_ratio</th>\n",
              "      <th>framebased</th>\n",
              "      <th>frameTagRatio</th>\n",
              "      <th>hasDomainLink</th>\n",
              "      <th>html_ratio</th>\n",
              "      <th>image_ratio</th>\n",
              "      <th>is_news</th>\n",
              "      <th>lengthyLinkDomain</th>\n",
              "      <th>linkwordscore</th>\n",
              "      <th>news_front_page</th>\n",
              "      <th>non_markup_alphanum_characters</th>\n",
              "      <th>numberOfLinks</th>\n",
              "      <th>numwords_in_url</th>\n",
              "      <th>parametrizedLinkRatio</th>\n",
              "      <th>spelling_errors_ratio</th>\n",
              "      <th>label</th>\n",
              "      <th>clean_boilerplate</th>\n",
              "    </tr>\n",
              "  </thead>\n",
              "  <tbody>\n",
              "    <tr>\n",
              "      <th>0</th>\n",
              "      <td>0</td>\n",
              "      <td>http://www.bloomberg.com/news/2010-12-23/ibm-p...</td>\n",
              "      <td>4042</td>\n",
              "      <td>{\"title\":\"IBM Sees Holographic Calls Air Breat...</td>\n",
              "      <td>business</td>\n",
              "      <td>0.789131</td>\n",
              "      <td>2.055556</td>\n",
              "      <td>0.676471</td>\n",
              "      <td>0.205882</td>\n",
              "      <td>0.047059</td>\n",
              "      <td>0.023529</td>\n",
              "      <td>0.443783</td>\n",
              "      <td>0.0</td>\n",
              "      <td>0</td>\n",
              "      <td>0.090774</td>\n",
              "      <td>0</td>\n",
              "      <td>0.245831</td>\n",
              "      <td>0.003883</td>\n",
              "      <td>1</td>\n",
              "      <td>1</td>\n",
              "      <td>24</td>\n",
              "      <td>0</td>\n",
              "      <td>5424</td>\n",
              "      <td>170</td>\n",
              "      <td>8</td>\n",
              "      <td>0.152941</td>\n",
              "      <td>0.079130</td>\n",
              "      <td>0</td>\n",
              "      <td>ibm holographic breathing body stand outside c...</td>\n",
              "    </tr>\n",
              "    <tr>\n",
              "      <th>1</th>\n",
              "      <td>1</td>\n",
              "      <td>http://www.popsci.com/technology/article/2012-...</td>\n",
              "      <td>8471</td>\n",
              "      <td>{\"title\":\"The Fully Electronic Futuristic Star...</td>\n",
              "      <td>recreation</td>\n",
              "      <td>0.574147</td>\n",
              "      <td>3.677966</td>\n",
              "      <td>0.508021</td>\n",
              "      <td>0.288770</td>\n",
              "      <td>0.213904</td>\n",
              "      <td>0.144385</td>\n",
              "      <td>0.468649</td>\n",
              "      <td>0.0</td>\n",
              "      <td>0</td>\n",
              "      <td>0.098707</td>\n",
              "      <td>0</td>\n",
              "      <td>0.203490</td>\n",
              "      <td>0.088652</td>\n",
              "      <td>1</td>\n",
              "      <td>1</td>\n",
              "      <td>40</td>\n",
              "      <td>0</td>\n",
              "      <td>4973</td>\n",
              "      <td>187</td>\n",
              "      <td>9</td>\n",
              "      <td>0.181818</td>\n",
              "      <td>0.125448</td>\n",
              "      <td>1</td>\n",
              "      <td>title That fully electronic futuristic startin...</td>\n",
              "    </tr>\n",
              "    <tr>\n",
              "      <th>2</th>\n",
              "      <td>2</td>\n",
              "      <td>http://www.menshealth.com/health/flu-fighting-...</td>\n",
              "      <td>1164</td>\n",
              "      <td>{\"title\":\"Fruits that Fight the Flu fruits tha...</td>\n",
              "      <td>health</td>\n",
              "      <td>0.996526</td>\n",
              "      <td>2.382883</td>\n",
              "      <td>0.562016</td>\n",
              "      <td>0.321705</td>\n",
              "      <td>0.120155</td>\n",
              "      <td>0.042636</td>\n",
              "      <td>0.525448</td>\n",
              "      <td>0.0</td>\n",
              "      <td>0</td>\n",
              "      <td>0.072448</td>\n",
              "      <td>0</td>\n",
              "      <td>0.226402</td>\n",
              "      <td>0.120536</td>\n",
              "      <td>1</td>\n",
              "      <td>1</td>\n",
              "      <td>55</td>\n",
              "      <td>0</td>\n",
              "      <td>2240</td>\n",
              "      <td>258</td>\n",
              "      <td>11</td>\n",
              "      <td>0.166667</td>\n",
              "      <td>0.057613</td>\n",
              "      <td>1</td>\n",
              "      <td>fight flu cold flu Apples popular diet one ant...</td>\n",
              "    </tr>\n",
              "    <tr>\n",
              "      <th>3</th>\n",
              "      <td>3</td>\n",
              "      <td>http://www.dumblittleman.com/2007/12/10-foolpr...</td>\n",
              "      <td>6684</td>\n",
              "      <td>{\"title\":\"10 Foolproof Tips for Better Sleep \"...</td>\n",
              "      <td>health</td>\n",
              "      <td>0.801248</td>\n",
              "      <td>1.543103</td>\n",
              "      <td>0.400000</td>\n",
              "      <td>0.100000</td>\n",
              "      <td>0.016667</td>\n",
              "      <td>0.000000</td>\n",
              "      <td>0.480725</td>\n",
              "      <td>0.0</td>\n",
              "      <td>0</td>\n",
              "      <td>0.095861</td>\n",
              "      <td>0</td>\n",
              "      <td>0.265656</td>\n",
              "      <td>0.035343</td>\n",
              "      <td>1</td>\n",
              "      <td>0</td>\n",
              "      <td>24</td>\n",
              "      <td>0</td>\n",
              "      <td>2737</td>\n",
              "      <td>120</td>\n",
              "      <td>5</td>\n",
              "      <td>0.041667</td>\n",
              "      <td>0.100858</td>\n",
              "      <td>1</td>\n",
              "      <td>There lot sleep took long fall easily awaken s...</td>\n",
              "    </tr>\n",
              "    <tr>\n",
              "      <th>4</th>\n",
              "      <td>4</td>\n",
              "      <td>http://bleacherreport.com/articles/1205138-the...</td>\n",
              "      <td>9006</td>\n",
              "      <td>{\"title\":\"The 50 Coolest Jerseys You Didn t Kn...</td>\n",
              "      <td>sports</td>\n",
              "      <td>0.719157</td>\n",
              "      <td>2.676471</td>\n",
              "      <td>0.500000</td>\n",
              "      <td>0.222222</td>\n",
              "      <td>0.123457</td>\n",
              "      <td>0.043210</td>\n",
              "      <td>0.446143</td>\n",
              "      <td>0.0</td>\n",
              "      <td>0</td>\n",
              "      <td>0.024908</td>\n",
              "      <td>0</td>\n",
              "      <td>0.228887</td>\n",
              "      <td>0.050473</td>\n",
              "      <td>1</td>\n",
              "      <td>1</td>\n",
              "      <td>14</td>\n",
              "      <td>0</td>\n",
              "      <td>12032</td>\n",
              "      <td>162</td>\n",
              "      <td>10</td>\n",
              "      <td>0.098765</td>\n",
              "      <td>0.082569</td>\n",
              "      <td>0</td>\n",
              "      <td>title coolest seen curious buying stylish top ...</td>\n",
              "    </tr>\n",
              "  </tbody>\n",
              "</table>\n",
              "</div>"
            ],
            "text/plain": [
              "   Unnamed: 0  ...                                  clean_boilerplate\n",
              "0           0  ...  ibm holographic breathing body stand outside c...\n",
              "1           1  ...  title That fully electronic futuristic startin...\n",
              "2           2  ...  fight flu cold flu Apples popular diet one ant...\n",
              "3           3  ...  There lot sleep took long fall easily awaken s...\n",
              "4           4  ...  title coolest seen curious buying stylish top ...\n",
              "\n",
              "[5 rows x 29 columns]"
            ]
          },
          "metadata": {
            "tags": []
          },
          "execution_count": 8
        }
      ]
    },
    {
      "cell_type": "code",
      "metadata": {
        "id": "JYxUHHFnkAeP"
      },
      "source": [
        "# shuffle the data rows.\n",
        "from sklearn.utils import shuffle\n",
        "df = shuffle(df)"
      ],
      "execution_count": 9,
      "outputs": []
    },
    {
      "cell_type": "code",
      "metadata": {
        "colab": {
          "base_uri": "https://localhost:8080/"
        },
        "id": "X64hLtWLLgQh",
        "outputId": "ca89b676-f5e9-4a05-b431-26f891d1bde9"
      },
      "source": [
        "# convert the dataframes to list.\n",
        "boilerplates =list(df['clean_boilerplate'].astype(str))\n",
        "labels = list(df.label)\n",
        "print(labels[0])\n",
        "print(boilerplates[1])\n",
        "\n"
      ],
      "execution_count": 10,
      "outputs": [
        {
          "output_type": "stream",
          "text": [
            "1\n",
            "body touchy personal provide easily swap meal particularly like one And tried find easy make worth cooking begin marked new added within past devolve\n"
          ],
          "name": "stdout"
        }
      ]
    },
    {
      "cell_type": "code",
      "metadata": {
        "id": "CGBM0Ck9VtiT"
      },
      "source": [
        "embedding_dim = 16\n",
        "max_length = 100\n",
        "trunc_type='post'\n",
        "padding_type='post'\n",
        "oov_tok = \"<OOV>\"\n",
        "training_size = 5916 #80 percent of the dataset.\n",
        "validation_size = 7025 #15 percent of the dataset."
      ],
      "execution_count": 11,
      "outputs": []
    },
    {
      "cell_type": "code",
      "metadata": {
        "id": "D_OfiCm9E5H_"
      },
      "source": [
        "# split the dataset into train, validation and test.\n",
        "training_sentences = boilerplates[0:training_size]\n",
        "validation_sentences = boilerplates[training_size:validation_size]\n",
        "testing_sentences = boilerplates[validation_size:]\n",
        "training_labels = labels[0:training_size]\n",
        "validation_labels = labels[training_size:validation_size]\n",
        "testing_labels = labels[validation_size:]"
      ],
      "execution_count": 12,
      "outputs": []
    },
    {
      "cell_type": "code",
      "metadata": {
        "id": "D8ATcPwNFgr1"
      },
      "source": [
        "# create a tokenizer and fit it to the training sentences.\n",
        "tokenizer = Tokenizer(num_words=30000, oov_token=oov_tok)\n",
        "tokenizer.fit_on_texts(training_sentences)"
      ],
      "execution_count": 13,
      "outputs": []
    },
    {
      "cell_type": "code",
      "metadata": {
        "colab": {
          "base_uri": "https://localhost:8080/"
        },
        "id": "7qCsf3FNFmS8",
        "outputId": "1de80b2d-c5cb-43c6-e889-f4774927bfa4"
      },
      "source": [
        "word_index = tokenizer.word_index\n",
        "print(len(word_index))\n"
      ],
      "execution_count": 14,
      "outputs": [
        {
          "output_type": "stream",
          "text": [
            "32673\n"
          ],
          "name": "stdout"
        }
      ]
    },
    {
      "cell_type": "code",
      "metadata": {
        "colab": {
          "base_uri": "https://localhost:8080/"
        },
        "id": "EHCYUi7iwOZW",
        "outputId": "291f0d44-db92-4135-c6a9-c508c5fd0327"
      },
      "source": [
        "# Fetch word vectors from glove.\n",
        "embeddings_index = {}\n",
        "f = open('/content/drive/MyDrive/StumbleUponEvergreen/glove.6B.100d.txt')\n",
        "for line in f:\n",
        "    values = line.split()\n",
        "    word = values[0]\n",
        "    coefs = np.asarray(values[1:], dtype='float32')\n",
        "    embeddings_index[word] = coefs\n",
        "f.close()\n",
        "\n",
        "print('Found %s word vectors.' % len(embeddings_index))"
      ],
      "execution_count": null,
      "outputs": [
        {
          "output_type": "stream",
          "text": [
            "Found 400000 word vectors.\n"
          ],
          "name": "stdout"
        }
      ]
    },
    {
      "cell_type": "code",
      "metadata": {
        "colab": {
          "base_uri": "https://localhost:8080/"
        },
        "id": "VWbVhrajwWbT",
        "outputId": "8583f5f4-e2f5-40a5-9d2e-d257edcda2de"
      },
      "source": [
        "embeddings_index['cool']"
      ],
      "execution_count": null,
      "outputs": [
        {
          "output_type": "execute_result",
          "data": {
            "text/plain": [
              "array([-0.74587 , -0.31105 ,  0.50803 , -0.29089 , -0.27585 ,  0.36639 ,\n",
              "        0.11195 ,  0.064536, -0.49929 ,  0.24547 ,  0.16176 , -0.52799 ,\n",
              "        0.006528, -0.25769 ,  0.13147 , -0.05776 , -0.43521 , -0.38571 ,\n",
              "        0.095668, -0.037963,  0.10614 ,  0.58842 ,  0.13133 , -0.72813 ,\n",
              "       -0.12345 ,  0.84321 , -0.51126 , -0.54044 , -0.43643 , -0.17442 ,\n",
              "       -0.13725 ,  0.45419 , -0.32037 ,  0.10308 , -0.19441 ,  0.87384 ,\n",
              "        0.44916 , -0.72491 ,  0.40962 , -0.82056 , -0.080839, -1.0468  ,\n",
              "       -0.32499 , -0.38805 ,  0.24453 , -0.15281 , -0.23598 ,  0.22905 ,\n",
              "        0.97877 , -1.1883  , -0.023652, -0.32838 ,  0.16727 ,  0.59475 ,\n",
              "       -0.19604 , -2.441   ,  0.55152 ,  0.40888 ,  0.57289 , -0.070599,\n",
              "        0.18115 ,  1.0243  , -1.0689  ,  0.29498 ,  0.79422 ,  0.28825 ,\n",
              "        0.80208 , -0.30532 ,  0.27398 , -0.78987 ,  0.4938  , -0.090447,\n",
              "        0.11786 ,  0.11613 ,  0.055007,  0.44122 ,  0.22263 , -0.31549 ,\n",
              "        1.088   , -0.12486 ,  0.43743 , -0.096397, -0.97517 ,  0.34338 ,\n",
              "       -0.32867 , -0.025447,  0.084205,  0.58633 ,  0.029914, -0.15884 ,\n",
              "        0.03439 ,  0.8434  ,  0.024171, -0.47234 , -0.47491 , -0.022972,\n",
              "       -0.43367 , -0.14636 , -0.255   ,  0.24235 ], dtype=float32)"
            ]
          },
          "metadata": {
            "tags": []
          },
          "execution_count": 81
        }
      ]
    },
    {
      "cell_type": "code",
      "metadata": {
        "id": "QFZpXsFgwcje"
      },
      "source": [
        "# create an embedding matrix with the word index and the word vectors we fetched.\n",
        "embedding_matrix = np.zeros((len(word_index) + 1, max_length))\n",
        "for word, i in word_index.items():\n",
        "    embedding_vector = embeddings_index.get(word)\n",
        "    if embedding_vector is not None:\n",
        "        embedding_matrix[i] = embedding_vector"
      ],
      "execution_count": null,
      "outputs": []
    },
    {
      "cell_type": "code",
      "metadata": {
        "id": "Bs2CY3-SFqO0"
      },
      "source": [
        "# create and pad training, validation and testing sequences.\n",
        "training_sequences = tokenizer.texts_to_sequences(training_sentences)\n",
        "training_padded = pad_sequences(training_sequences, maxlen=max_length, padding=padding_type, truncating=trunc_type)"
      ],
      "execution_count": null,
      "outputs": []
    },
    {
      "cell_type": "code",
      "metadata": {
        "id": "ocXr9gpHFtmo"
      },
      "source": [
        "validation_sequences = tokenizer.texts_to_sequences(validation_sentences)\n",
        "validation_padded = pad_sequences(validation_sequences, maxlen=max_length, padding=padding_type, truncating=trunc_type)"
      ],
      "execution_count": null,
      "outputs": []
    },
    {
      "cell_type": "code",
      "metadata": {
        "id": "lrcSClNtnpqi"
      },
      "source": [
        "testing_sequences = tokenizer.texts_to_sequences(testing_sentences)\n",
        "testing_padded = pad_sequences(testing_sequences, maxlen=max_length, padding=padding_type, truncating=trunc_type)"
      ],
      "execution_count": null,
      "outputs": []
    },
    {
      "cell_type": "code",
      "metadata": {
        "id": "x_YnpxxBFxGq"
      },
      "source": [
        "model = tf.keras.Sequential([\n",
        "    tf.keras.layers.Embedding(len(word_index) + 1,\n",
        "                            max_length,\n",
        "                            weights=[embedding_matrix],\n",
        "                            input_length=max_length,\n",
        "                            trainable=False),\n",
        "    tf.keras.layers.Dropout(0.6),\n",
        "    tf.keras.layers.Bidirectional(tf.keras.layers.LSTM(embedding_dim, return_sequences=True)),\n",
        "    tf.keras.layers.Dropout(0.6),\n",
        "    tf.keras.layers.Bidirectional(tf.keras.layers.LSTM(embedding_dim)),\n",
        "    tf.keras.layers.Dropout(0.6),\n",
        "    tf.keras.layers.Dense(16,  kernel_regularizer=tf.keras.regularizers.l2(0.0001), activation='relu'),\n",
        "    tf.keras.layers.Dropout(0.6),\n",
        "    tf.keras.layers.Dense(1, activation='sigmoid')\n",
        "])\n",
        "model.compile(loss='binary_crossentropy',optimizer= tf.keras.optimizers.SGD(learning_rate= 0.01),metrics=['accuracy'])"
      ],
      "execution_count": null,
      "outputs": []
    },
    {
      "cell_type": "code",
      "metadata": {
        "colab": {
          "base_uri": "https://localhost:8080/"
        },
        "id": "83dG-4UmF5wG",
        "outputId": "b620a9e0-eaa0-4058-ed9d-7e74da5649d9"
      },
      "source": [
        "model.summary()"
      ],
      "execution_count": null,
      "outputs": [
        {
          "output_type": "stream",
          "text": [
            "Model: \"sequential_6\"\n",
            "_________________________________________________________________\n",
            "Layer (type)                 Output Shape              Param #   \n",
            "=================================================================\n",
            "embedding_6 (Embedding)      (None, 100, 100)          3169100   \n",
            "_________________________________________________________________\n",
            "dropout_24 (Dropout)         (None, 100, 100)          0         \n",
            "_________________________________________________________________\n",
            "bidirectional_12 (Bidirectio (None, 100, 32)           14976     \n",
            "_________________________________________________________________\n",
            "dropout_25 (Dropout)         (None, 100, 32)           0         \n",
            "_________________________________________________________________\n",
            "bidirectional_13 (Bidirectio (None, 32)                6272      \n",
            "_________________________________________________________________\n",
            "dropout_26 (Dropout)         (None, 32)                0         \n",
            "_________________________________________________________________\n",
            "dense_12 (Dense)             (None, 16)                528       \n",
            "_________________________________________________________________\n",
            "dropout_27 (Dropout)         (None, 16)                0         \n",
            "_________________________________________________________________\n",
            "dense_13 (Dense)             (None, 1)                 17        \n",
            "=================================================================\n",
            "Total params: 3,190,893\n",
            "Trainable params: 21,793\n",
            "Non-trainable params: 3,169,100\n",
            "_________________________________________________________________\n"
          ],
          "name": "stdout"
        }
      ]
    },
    {
      "cell_type": "code",
      "metadata": {
        "colab": {
          "base_uri": "https://localhost:8080/"
        },
        "id": "kRKex2IxF8MZ",
        "outputId": "28421912-1d6f-4131-bd97-a6170a907c26"
      },
      "source": [
        "with tf.device('/device:GPU:0'):\n",
        "  num_epochs = 100\n",
        "  training_padded = np.array(training_padded)\n",
        "  training_labels = np.array(training_labels)\n",
        "  validation_padded = np.array(validation_padded)\n",
        "  validation_labels = np.array(validation_labels)\n",
        "  history = model.fit(training_padded, training_labels, epochs=num_epochs, validation_data=(validation_padded, validation_labels), verbose=1)\n"
      ],
      "execution_count": null,
      "outputs": [
        {
          "output_type": "stream",
          "text": [
            "Epoch 1/100\n",
            "185/185 [==============================] - 9s 24ms/step - loss: 0.7046 - accuracy: 0.5067 - val_loss: 0.6863 - val_accuracy: 0.5690\n",
            "Epoch 2/100\n",
            "185/185 [==============================] - 3s 16ms/step - loss: 0.6974 - accuracy: 0.5047 - val_loss: 0.6856 - val_accuracy: 0.5798\n",
            "Epoch 3/100\n",
            "185/185 [==============================] - 3s 17ms/step - loss: 0.6944 - accuracy: 0.5195 - val_loss: 0.6807 - val_accuracy: 0.5996\n",
            "Epoch 4/100\n",
            "185/185 [==============================] - 3s 17ms/step - loss: 0.6934 - accuracy: 0.5412 - val_loss: 0.6779 - val_accuracy: 0.6023\n",
            "Epoch 5/100\n",
            "185/185 [==============================] - 3s 17ms/step - loss: 0.6901 - accuracy: 0.5268 - val_loss: 0.6735 - val_accuracy: 0.6150\n",
            "Epoch 6/100\n",
            "185/185 [==============================] - 3s 18ms/step - loss: 0.6817 - accuracy: 0.5535 - val_loss: 0.6691 - val_accuracy: 0.6411\n",
            "Epoch 7/100\n",
            "185/185 [==============================] - 3s 17ms/step - loss: 0.6837 - accuracy: 0.5575 - val_loss: 0.6608 - val_accuracy: 0.6474\n",
            "Epoch 8/100\n",
            "185/185 [==============================] - 4s 19ms/step - loss: 0.6773 - accuracy: 0.5692 - val_loss: 0.6540 - val_accuracy: 0.6754\n",
            "Epoch 9/100\n",
            "185/185 [==============================] - 3s 17ms/step - loss: 0.6792 - accuracy: 0.5634 - val_loss: 0.6436 - val_accuracy: 0.6961\n",
            "Epoch 10/100\n",
            "185/185 [==============================] - 3s 18ms/step - loss: 0.6690 - accuracy: 0.5950 - val_loss: 0.6314 - val_accuracy: 0.7169\n",
            "Epoch 11/100\n",
            "185/185 [==============================] - 3s 17ms/step - loss: 0.6624 - accuracy: 0.6083 - val_loss: 0.6170 - val_accuracy: 0.7376\n",
            "Epoch 12/100\n",
            "185/185 [==============================] - 3s 17ms/step - loss: 0.6560 - accuracy: 0.6196 - val_loss: 0.6009 - val_accuracy: 0.7358\n",
            "Epoch 13/100\n",
            "185/185 [==============================] - 3s 18ms/step - loss: 0.6480 - accuracy: 0.6329 - val_loss: 0.5822 - val_accuracy: 0.7394\n",
            "Epoch 14/100\n",
            "185/185 [==============================] - 3s 17ms/step - loss: 0.6378 - accuracy: 0.6497 - val_loss: 0.5650 - val_accuracy: 0.7412\n",
            "Epoch 15/100\n",
            "185/185 [==============================] - 3s 17ms/step - loss: 0.6245 - accuracy: 0.6601 - val_loss: 0.5468 - val_accuracy: 0.7439\n",
            "Epoch 16/100\n",
            "185/185 [==============================] - 3s 17ms/step - loss: 0.6009 - accuracy: 0.6834 - val_loss: 0.5363 - val_accuracy: 0.7502\n",
            "Epoch 17/100\n",
            "185/185 [==============================] - 3s 17ms/step - loss: 0.5990 - accuracy: 0.6932 - val_loss: 0.5318 - val_accuracy: 0.7502\n",
            "Epoch 18/100\n",
            "185/185 [==============================] - 3s 17ms/step - loss: 0.6023 - accuracy: 0.6969 - val_loss: 0.5279 - val_accuracy: 0.7574\n",
            "Epoch 19/100\n",
            "185/185 [==============================] - 3s 17ms/step - loss: 0.5843 - accuracy: 0.7196 - val_loss: 0.5254 - val_accuracy: 0.7610\n",
            "Epoch 20/100\n",
            "185/185 [==============================] - 3s 18ms/step - loss: 0.5931 - accuracy: 0.6956 - val_loss: 0.5277 - val_accuracy: 0.7502\n",
            "Epoch 21/100\n",
            "185/185 [==============================] - 3s 18ms/step - loss: 0.5690 - accuracy: 0.7271 - val_loss: 0.5360 - val_accuracy: 0.7421\n",
            "Epoch 22/100\n",
            "185/185 [==============================] - 3s 18ms/step - loss: 0.5747 - accuracy: 0.7315 - val_loss: 0.5239 - val_accuracy: 0.7638\n",
            "Epoch 23/100\n",
            "185/185 [==============================] - 3s 17ms/step - loss: 0.5724 - accuracy: 0.7371 - val_loss: 0.5215 - val_accuracy: 0.7628\n",
            "Epoch 24/100\n",
            "185/185 [==============================] - 3s 17ms/step - loss: 0.5498 - accuracy: 0.7435 - val_loss: 0.5286 - val_accuracy: 0.7665\n",
            "Epoch 25/100\n",
            "185/185 [==============================] - 3s 18ms/step - loss: 0.5667 - accuracy: 0.7386 - val_loss: 0.5178 - val_accuracy: 0.7565\n",
            "Epoch 26/100\n",
            "185/185 [==============================] - 3s 18ms/step - loss: 0.5590 - accuracy: 0.7327 - val_loss: 0.5161 - val_accuracy: 0.7638\n",
            "Epoch 27/100\n",
            "185/185 [==============================] - 3s 17ms/step - loss: 0.5515 - accuracy: 0.7446 - val_loss: 0.5324 - val_accuracy: 0.7601\n",
            "Epoch 28/100\n",
            "185/185 [==============================] - 3s 18ms/step - loss: 0.5624 - accuracy: 0.7396 - val_loss: 0.5136 - val_accuracy: 0.7628\n",
            "Epoch 29/100\n",
            "185/185 [==============================] - 3s 17ms/step - loss: 0.5504 - accuracy: 0.7449 - val_loss: 0.5197 - val_accuracy: 0.7701\n",
            "Epoch 30/100\n",
            "185/185 [==============================] - 3s 19ms/step - loss: 0.5574 - accuracy: 0.7386 - val_loss: 0.5259 - val_accuracy: 0.7701\n",
            "Epoch 31/100\n",
            "185/185 [==============================] - 3s 19ms/step - loss: 0.5503 - accuracy: 0.7494 - val_loss: 0.5145 - val_accuracy: 0.7656\n",
            "Epoch 32/100\n",
            "185/185 [==============================] - 3s 19ms/step - loss: 0.5490 - accuracy: 0.7555 - val_loss: 0.5246 - val_accuracy: 0.7683\n",
            "Epoch 33/100\n",
            "185/185 [==============================] - 3s 18ms/step - loss: 0.5460 - accuracy: 0.7508 - val_loss: 0.6542 - val_accuracy: 0.6799\n",
            "Epoch 34/100\n",
            "185/185 [==============================] - 3s 18ms/step - loss: 0.5611 - accuracy: 0.7399 - val_loss: 0.5243 - val_accuracy: 0.7746\n",
            "Epoch 35/100\n",
            "185/185 [==============================] - 3s 17ms/step - loss: 0.5393 - accuracy: 0.7505 - val_loss: 0.5034 - val_accuracy: 0.7628\n",
            "Epoch 36/100\n",
            "185/185 [==============================] - 3s 17ms/step - loss: 0.5442 - accuracy: 0.7491 - val_loss: 0.5033 - val_accuracy: 0.7638\n",
            "Epoch 37/100\n",
            "185/185 [==============================] - 3s 18ms/step - loss: 0.5491 - accuracy: 0.7462 - val_loss: 0.5097 - val_accuracy: 0.7647\n",
            "Epoch 38/100\n",
            "185/185 [==============================] - 3s 17ms/step - loss: 0.5365 - accuracy: 0.7560 - val_loss: 0.5066 - val_accuracy: 0.7638\n",
            "Epoch 39/100\n",
            "185/185 [==============================] - 3s 17ms/step - loss: 0.5349 - accuracy: 0.7529 - val_loss: 0.5175 - val_accuracy: 0.7574\n",
            "Epoch 40/100\n",
            "185/185 [==============================] - 3s 17ms/step - loss: 0.5477 - accuracy: 0.7404 - val_loss: 0.5131 - val_accuracy: 0.7647\n",
            "Epoch 41/100\n",
            "185/185 [==============================] - 3s 17ms/step - loss: 0.5426 - accuracy: 0.7620 - val_loss: 0.5138 - val_accuracy: 0.7674\n",
            "Epoch 42/100\n",
            "185/185 [==============================] - 3s 17ms/step - loss: 0.5474 - accuracy: 0.7437 - val_loss: 0.5254 - val_accuracy: 0.7638\n",
            "Epoch 43/100\n",
            "185/185 [==============================] - 3s 17ms/step - loss: 0.5478 - accuracy: 0.7517 - val_loss: 0.5045 - val_accuracy: 0.7628\n",
            "Epoch 44/100\n",
            "185/185 [==============================] - 3s 18ms/step - loss: 0.5458 - accuracy: 0.7471 - val_loss: 0.5275 - val_accuracy: 0.7619\n",
            "Epoch 45/100\n",
            "185/185 [==============================] - 3s 17ms/step - loss: 0.5354 - accuracy: 0.7543 - val_loss: 0.5104 - val_accuracy: 0.7710\n",
            "Epoch 46/100\n",
            "185/185 [==============================] - 3s 17ms/step - loss: 0.5601 - accuracy: 0.7501 - val_loss: 0.5124 - val_accuracy: 0.7692\n",
            "Epoch 47/100\n",
            "185/185 [==============================] - 3s 17ms/step - loss: 0.5232 - accuracy: 0.7546 - val_loss: 0.5133 - val_accuracy: 0.7746\n",
            "Epoch 48/100\n",
            "185/185 [==============================] - 3s 17ms/step - loss: 0.5218 - accuracy: 0.7667 - val_loss: 0.5095 - val_accuracy: 0.7737\n",
            "Epoch 49/100\n",
            "185/185 [==============================] - 3s 18ms/step - loss: 0.5427 - accuracy: 0.7474 - val_loss: 0.5234 - val_accuracy: 0.7665\n",
            "Epoch 50/100\n",
            "185/185 [==============================] - 3s 17ms/step - loss: 0.5255 - accuracy: 0.7597 - val_loss: 0.5107 - val_accuracy: 0.7656\n",
            "Epoch 51/100\n",
            "185/185 [==============================] - 3s 18ms/step - loss: 0.5462 - accuracy: 0.7437 - val_loss: 0.5108 - val_accuracy: 0.7710\n",
            "Epoch 52/100\n",
            "185/185 [==============================] - 3s 18ms/step - loss: 0.5361 - accuracy: 0.7565 - val_loss: 0.5104 - val_accuracy: 0.7746\n",
            "Epoch 53/100\n",
            "185/185 [==============================] - 3s 18ms/step - loss: 0.5436 - accuracy: 0.7532 - val_loss: 0.5034 - val_accuracy: 0.7692\n",
            "Epoch 54/100\n",
            "185/185 [==============================] - 3s 18ms/step - loss: 0.5232 - accuracy: 0.7605 - val_loss: 0.5281 - val_accuracy: 0.7764\n",
            "Epoch 55/100\n",
            "185/185 [==============================] - 3s 17ms/step - loss: 0.5289 - accuracy: 0.7561 - val_loss: 0.5259 - val_accuracy: 0.7719\n",
            "Epoch 56/100\n",
            "185/185 [==============================] - 3s 18ms/step - loss: 0.5333 - accuracy: 0.7435 - val_loss: 0.5087 - val_accuracy: 0.7656\n",
            "Epoch 57/100\n",
            "185/185 [==============================] - 3s 18ms/step - loss: 0.5294 - accuracy: 0.7544 - val_loss: 0.5096 - val_accuracy: 0.7719\n",
            "Epoch 58/100\n",
            "185/185 [==============================] - 3s 17ms/step - loss: 0.5191 - accuracy: 0.7723 - val_loss: 0.5071 - val_accuracy: 0.7647\n",
            "Epoch 59/100\n",
            "185/185 [==============================] - 3s 18ms/step - loss: 0.5285 - accuracy: 0.7573 - val_loss: 0.5180 - val_accuracy: 0.7737\n",
            "Epoch 60/100\n",
            "185/185 [==============================] - 3s 17ms/step - loss: 0.5248 - accuracy: 0.7650 - val_loss: 0.5177 - val_accuracy: 0.7683\n",
            "Epoch 61/100\n",
            "185/185 [==============================] - 3s 18ms/step - loss: 0.5223 - accuracy: 0.7628 - val_loss: 0.4980 - val_accuracy: 0.7701\n",
            "Epoch 62/100\n",
            "185/185 [==============================] - 3s 17ms/step - loss: 0.5325 - accuracy: 0.7624 - val_loss: 0.5086 - val_accuracy: 0.7674\n",
            "Epoch 63/100\n",
            "185/185 [==============================] - 3s 17ms/step - loss: 0.5298 - accuracy: 0.7652 - val_loss: 0.5067 - val_accuracy: 0.7728\n",
            "Epoch 64/100\n",
            "185/185 [==============================] - 3s 17ms/step - loss: 0.5250 - accuracy: 0.7695 - val_loss: 0.5025 - val_accuracy: 0.7719\n",
            "Epoch 65/100\n",
            "185/185 [==============================] - 3s 17ms/step - loss: 0.5086 - accuracy: 0.7690 - val_loss: 0.5058 - val_accuracy: 0.7638\n",
            "Epoch 66/100\n",
            "185/185 [==============================] - 3s 17ms/step - loss: 0.5235 - accuracy: 0.7579 - val_loss: 0.5020 - val_accuracy: 0.7701\n",
            "Epoch 67/100\n",
            "185/185 [==============================] - 3s 18ms/step - loss: 0.5355 - accuracy: 0.7484 - val_loss: 0.5076 - val_accuracy: 0.7701\n",
            "Epoch 68/100\n",
            "185/185 [==============================] - 3s 17ms/step - loss: 0.5140 - accuracy: 0.7603 - val_loss: 0.5152 - val_accuracy: 0.7809\n",
            "Epoch 69/100\n",
            "185/185 [==============================] - 3s 17ms/step - loss: 0.5177 - accuracy: 0.7575 - val_loss: 0.5143 - val_accuracy: 0.7692\n",
            "Epoch 70/100\n",
            "185/185 [==============================] - 3s 18ms/step - loss: 0.5210 - accuracy: 0.7650 - val_loss: 0.5091 - val_accuracy: 0.7628\n",
            "Epoch 71/100\n",
            "185/185 [==============================] - 3s 18ms/step - loss: 0.5375 - accuracy: 0.7505 - val_loss: 0.5228 - val_accuracy: 0.7791\n",
            "Epoch 72/100\n",
            "185/185 [==============================] - 3s 18ms/step - loss: 0.5150 - accuracy: 0.7737 - val_loss: 0.5287 - val_accuracy: 0.7773\n",
            "Epoch 73/100\n",
            "185/185 [==============================] - 3s 17ms/step - loss: 0.5147 - accuracy: 0.7682 - val_loss: 0.5156 - val_accuracy: 0.7728\n",
            "Epoch 74/100\n",
            "185/185 [==============================] - 3s 18ms/step - loss: 0.5093 - accuracy: 0.7726 - val_loss: 0.5064 - val_accuracy: 0.7701\n",
            "Epoch 75/100\n",
            "185/185 [==============================] - 3s 18ms/step - loss: 0.5340 - accuracy: 0.7561 - val_loss: 0.5116 - val_accuracy: 0.7728\n",
            "Epoch 76/100\n",
            "185/185 [==============================] - 3s 18ms/step - loss: 0.5097 - accuracy: 0.7688 - val_loss: 0.5075 - val_accuracy: 0.7683\n",
            "Epoch 77/100\n",
            "185/185 [==============================] - 4s 20ms/step - loss: 0.5188 - accuracy: 0.7611 - val_loss: 0.5087 - val_accuracy: 0.7728\n",
            "Epoch 78/100\n",
            "185/185 [==============================] - 3s 18ms/step - loss: 0.5113 - accuracy: 0.7714 - val_loss: 0.5062 - val_accuracy: 0.7746\n",
            "Epoch 79/100\n",
            "185/185 [==============================] - 3s 17ms/step - loss: 0.5214 - accuracy: 0.7607 - val_loss: 0.5019 - val_accuracy: 0.7710\n",
            "Epoch 80/100\n",
            "185/185 [==============================] - 3s 17ms/step - loss: 0.5227 - accuracy: 0.7677 - val_loss: 0.5000 - val_accuracy: 0.7773\n",
            "Epoch 81/100\n",
            "185/185 [==============================] - 3s 18ms/step - loss: 0.5190 - accuracy: 0.7626 - val_loss: 0.5047 - val_accuracy: 0.7692\n",
            "Epoch 82/100\n",
            "185/185 [==============================] - 3s 17ms/step - loss: 0.5246 - accuracy: 0.7620 - val_loss: 0.4983 - val_accuracy: 0.7719\n",
            "Epoch 83/100\n",
            "185/185 [==============================] - 3s 17ms/step - loss: 0.5588 - accuracy: 0.7334 - val_loss: 0.5170 - val_accuracy: 0.7782\n",
            "Epoch 84/100\n",
            "185/185 [==============================] - 3s 17ms/step - loss: 0.5278 - accuracy: 0.7655 - val_loss: 0.5133 - val_accuracy: 0.7791\n",
            "Epoch 85/100\n",
            "185/185 [==============================] - 3s 18ms/step - loss: 0.5349 - accuracy: 0.7673 - val_loss: 0.5053 - val_accuracy: 0.7746\n",
            "Epoch 86/100\n",
            "185/185 [==============================] - 3s 17ms/step - loss: 0.5123 - accuracy: 0.7765 - val_loss: 0.5042 - val_accuracy: 0.7647\n",
            "Epoch 87/100\n",
            "185/185 [==============================] - 3s 18ms/step - loss: 0.5235 - accuracy: 0.7588 - val_loss: 0.5073 - val_accuracy: 0.7647\n",
            "Epoch 88/100\n",
            "185/185 [==============================] - 3s 18ms/step - loss: 0.5236 - accuracy: 0.7711 - val_loss: 0.4975 - val_accuracy: 0.7719\n",
            "Epoch 89/100\n",
            "185/185 [==============================] - 3s 18ms/step - loss: 0.5066 - accuracy: 0.7868 - val_loss: 0.4991 - val_accuracy: 0.7701\n",
            "Epoch 90/100\n",
            "185/185 [==============================] - 3s 18ms/step - loss: 0.5118 - accuracy: 0.7710 - val_loss: 0.5072 - val_accuracy: 0.7809\n",
            "Epoch 91/100\n",
            "185/185 [==============================] - 3s 18ms/step - loss: 0.5189 - accuracy: 0.7696 - val_loss: 0.4825 - val_accuracy: 0.7701\n",
            "Epoch 92/100\n",
            "185/185 [==============================] - 3s 18ms/step - loss: 0.5230 - accuracy: 0.7598 - val_loss: 0.4833 - val_accuracy: 0.7764\n",
            "Epoch 93/100\n",
            "185/185 [==============================] - 3s 18ms/step - loss: 0.5307 - accuracy: 0.7670 - val_loss: 0.5008 - val_accuracy: 0.7728\n",
            "Epoch 94/100\n",
            "185/185 [==============================] - 3s 18ms/step - loss: 0.5121 - accuracy: 0.7790 - val_loss: 0.5031 - val_accuracy: 0.7737\n",
            "Epoch 95/100\n",
            "185/185 [==============================] - 3s 17ms/step - loss: 0.5069 - accuracy: 0.7767 - val_loss: 0.5171 - val_accuracy: 0.7665\n",
            "Epoch 96/100\n",
            "185/185 [==============================] - 3s 18ms/step - loss: 0.5331 - accuracy: 0.7486 - val_loss: 0.4961 - val_accuracy: 0.7683\n",
            "Epoch 97/100\n",
            "185/185 [==============================] - 3s 17ms/step - loss: 0.5128 - accuracy: 0.7691 - val_loss: 0.4987 - val_accuracy: 0.7746\n",
            "Epoch 98/100\n",
            "185/185 [==============================] - 3s 18ms/step - loss: 0.5069 - accuracy: 0.7741 - val_loss: 0.4948 - val_accuracy: 0.7818\n",
            "Epoch 99/100\n",
            "185/185 [==============================] - 3s 17ms/step - loss: 0.5260 - accuracy: 0.7577 - val_loss: 0.4961 - val_accuracy: 0.7746\n",
            "Epoch 100/100\n",
            "185/185 [==============================] - 3s 17ms/step - loss: 0.5167 - accuracy: 0.7773 - val_loss: 0.5122 - val_accuracy: 0.7845\n"
          ],
          "name": "stdout"
        }
      ]
    },
    {
      "cell_type": "code",
      "metadata": {
        "colab": {
          "base_uri": "https://localhost:8080/",
          "height": 573
        },
        "id": "lkfo7tSoSKjH",
        "outputId": "ee24b0a5-2eec-4750-db38-ef81d406e3c3"
      },
      "source": [
        "import matplotlib.pyplot as plt\n",
        "\n",
        "acc = history.history['accuracy']\n",
        "val_acc = history.history['val_accuracy']\n",
        "loss = history.history['loss']\n",
        "val_loss = history.history['val_loss']\n",
        "epochs = range(1, len(acc) + 1)\n",
        "\n",
        "plt.plot(epochs, acc, 'b', label='Training acc')\n",
        "plt.plot(epochs, val_acc, 'g', label='Validation acc')\n",
        "plt.xlabel('Epochs')\n",
        "plt.ylabel('Accuracy')\n",
        "\n",
        "plt.title('Training and validation accuracy')\n",
        "plt.legend()\n",
        "fig = plt.figure()\n",
        "fig.savefig('acc.png')\n",
        "\n",
        "\n",
        "plt.plot(epochs, loss, 'b', label='Training loss')\n",
        "plt.plot(epochs, val_loss, 'g', label='Validation loss')\n",
        "plt.xlabel('Epochs')\n",
        "plt.ylabel('Loss')\n",
        "plt.title('Training and validation loss')\n",
        "\n",
        "plt.legend()\n",
        "plt.show()"
      ],
      "execution_count": null,
      "outputs": [
        {
          "output_type": "display_data",
          "data": {
            "image/png": "[encoded data removed]",
            "text/plain": [
              "<Figure size 432x288 with 1 Axes>"
            ]
          },
          "metadata": {
            "tags": [],
            "needs_background": "light"
          }
        },
        {
          "output_type": "display_data",
          "data": {
            "image/png": "[encoded data removed]",
            "text/plain": [
              "<Figure size 432x288 with 1 Axes>"
            ]
          },
          "metadata": {
            "tags": [],
            "needs_background": "light"
          }
        }
      ]
    },
    {
      "cell_type": "code",
      "metadata": {
        "id": "wTZ8PhyYnhfU",
        "colab": {
          "base_uri": "https://localhost:8080/"
        },
        "outputId": "10a2a5bd-30e4-454b-83b7-a560696cf719"
      },
      "source": [
        "testing_padded = np.array(testing_padded)\n",
        "testing_labels = np.array(testing_labels)\n",
        "loss, accuracy = model.evaluate(testing_padded, testing_labels)"
      ],
      "execution_count": null,
      "outputs": [
        {
          "output_type": "stream",
          "text": [
            "12/12 [==============================] - 0s 12ms/step - loss: 0.4895 - accuracy: 0.8081\n"
          ],
          "name": "stdout"
        }
      ]
    },
    {
      "cell_type": "code",
      "metadata": {
        "id": "DKk33IHuM8xM"
      },
      "source": [
        "# save the model.\n",
        "model.save('/content/drive/MyDrive/StumbleUponEvergreen/glove_model.h5')"
      ],
      "execution_count": null,
      "outputs": []
    },
    {
      "cell_type": "code",
      "metadata": {
        "id": "7ABaPcTqMe7R"
      },
      "source": [
        "model = tf.keras.models.load_model('/content/drive/MyDrive/StumbleUponEvergreen/glove_model.h5')"
      ],
      "execution_count": 17,
      "outputs": []
    },
    {
      "cell_type": "code",
      "metadata": {
        "colab": {
          "base_uri": "https://localhost:8080/",
          "height": 383
        },
        "id": "iKAAysGqHg9f",
        "outputId": "00dd3481-8316-4399-a131-374c98a447bd"
      },
      "source": [
        "# Fetch test data.\n",
        "df2 = pd.read_csv('/content/drive/MyDrive/StumbleUponEvergreen/test.tsv',sep = '\\t', header = 0)\n",
        "df2.head()\n"
      ],
      "execution_count": 34,
      "outputs": [
        {
          "output_type": "execute_result",
          "data": {
            "text/html": [
              "<div>\n",
              "<style scoped>\n",
              "    .dataframe tbody tr th:only-of-type {\n",
              "        vertical-align: middle;\n",
              "    }\n",
              "\n",
              "    .dataframe tbody tr th {\n",
              "        vertical-align: top;\n",
              "    }\n",
              "\n",
              "    .dataframe thead th {\n",
              "        text-align: right;\n",
              "    }\n",
              "</style>\n",
              "<table border=\"1\" class=\"dataframe\">\n",
              "  <thead>\n",
              "    <tr style=\"text-align: right;\">\n",
              "      <th></th>\n",
              "      <th>url</th>\n",
              "      <th>urlid</th>\n",
              "      <th>boilerplate</th>\n",
              "      <th>alchemy_category</th>\n",
              "      <th>alchemy_category_score</th>\n",
              "      <th>avglinksize</th>\n",
              "      <th>commonlinkratio_1</th>\n",
              "      <th>commonlinkratio_2</th>\n",
              "      <th>commonlinkratio_3</th>\n",
              "      <th>commonlinkratio_4</th>\n",
              "      <th>compression_ratio</th>\n",
              "      <th>embed_ratio</th>\n",
              "      <th>framebased</th>\n",
              "      <th>frameTagRatio</th>\n",
              "      <th>hasDomainLink</th>\n",
              "      <th>html_ratio</th>\n",
              "      <th>image_ratio</th>\n",
              "      <th>is_news</th>\n",
              "      <th>lengthyLinkDomain</th>\n",
              "      <th>linkwordscore</th>\n",
              "      <th>news_front_page</th>\n",
              "      <th>non_markup_alphanum_characters</th>\n",
              "      <th>numberOfLinks</th>\n",
              "      <th>numwords_in_url</th>\n",
              "      <th>parametrizedLinkRatio</th>\n",
              "      <th>spelling_errors_ratio</th>\n",
              "    </tr>\n",
              "  </thead>\n",
              "  <tbody>\n",
              "    <tr>\n",
              "      <th>0</th>\n",
              "      <td>http://www.lynnskitchenadventures.com/2009/04/...</td>\n",
              "      <td>5865</td>\n",
              "      <td>{\"title\":\"Homemade Enchilada Sauce Lynn s Kitc...</td>\n",
              "      <td>recreation</td>\n",
              "      <td>0.443906</td>\n",
              "      <td>2.558140</td>\n",
              "      <td>0.389706</td>\n",
              "      <td>0.257353</td>\n",
              "      <td>0.044118</td>\n",
              "      <td>0.022059</td>\n",
              "      <td>0.489572</td>\n",
              "      <td>0.0</td>\n",
              "      <td>0</td>\n",
              "      <td>0.067143</td>\n",
              "      <td>0</td>\n",
              "      <td>0.230285</td>\n",
              "      <td>0.199438</td>\n",
              "      <td>1</td>\n",
              "      <td>1</td>\n",
              "      <td>15</td>\n",
              "      <td>0</td>\n",
              "      <td>5643</td>\n",
              "      <td>136</td>\n",
              "      <td>3</td>\n",
              "      <td>0.242647</td>\n",
              "      <td>0.080597</td>\n",
              "    </tr>\n",
              "    <tr>\n",
              "      <th>1</th>\n",
              "      <td>http://lolpics.se/18552-stun-grenade-ar</td>\n",
              "      <td>782</td>\n",
              "      <td>{\"title\":\"lolpics Stun grenade ar \",\"body\":\" f...</td>\n",
              "      <td>culture_politics</td>\n",
              "      <td>0.135844</td>\n",
              "      <td>3.771429</td>\n",
              "      <td>0.461538</td>\n",
              "      <td>0.205128</td>\n",
              "      <td>0.051282</td>\n",
              "      <td>0.000000</td>\n",
              "      <td>0.782051</td>\n",
              "      <td>0.0</td>\n",
              "      <td>0</td>\n",
              "      <td>0.042857</td>\n",
              "      <td>0</td>\n",
              "      <td>0.365962</td>\n",
              "      <td>0.080000</td>\n",
              "      <td>?</td>\n",
              "      <td>1</td>\n",
              "      <td>62</td>\n",
              "      <td>0</td>\n",
              "      <td>382</td>\n",
              "      <td>39</td>\n",
              "      <td>2</td>\n",
              "      <td>0.128205</td>\n",
              "      <td>0.176471</td>\n",
              "    </tr>\n",
              "    <tr>\n",
              "      <th>2</th>\n",
              "      <td>http://www.xcelerationfitness.com/treadmills.html</td>\n",
              "      <td>6962</td>\n",
              "      <td>{\"title\":\"Treadmills \",\"body\":\" treadmills, st...</td>\n",
              "      <td>?</td>\n",
              "      <td>?</td>\n",
              "      <td>2.269565</td>\n",
              "      <td>0.495726</td>\n",
              "      <td>0.384615</td>\n",
              "      <td>0.170940</td>\n",
              "      <td>0.170940</td>\n",
              "      <td>1.250000</td>\n",
              "      <td>0.0</td>\n",
              "      <td>0</td>\n",
              "      <td>0.058824</td>\n",
              "      <td>0</td>\n",
              "      <td>0.161901</td>\n",
              "      <td>10.000000</td>\n",
              "      <td>?</td>\n",
              "      <td>1</td>\n",
              "      <td>42</td>\n",
              "      <td>0</td>\n",
              "      <td>2420</td>\n",
              "      <td>117</td>\n",
              "      <td>1</td>\n",
              "      <td>0.581197</td>\n",
              "      <td>0.125000</td>\n",
              "    </tr>\n",
              "    <tr>\n",
              "      <th>3</th>\n",
              "      <td>http://www.bloomberg.com/news/2012-02-06/syria...</td>\n",
              "      <td>7640</td>\n",
              "      <td>{\"title\":\"Father s Tactics Used by Assad to Cr...</td>\n",
              "      <td>culture_politics</td>\n",
              "      <td>0.90259</td>\n",
              "      <td>2.523490</td>\n",
              "      <td>0.705502</td>\n",
              "      <td>0.346278</td>\n",
              "      <td>0.122977</td>\n",
              "      <td>0.090615</td>\n",
              "      <td>0.449366</td>\n",
              "      <td>0.0</td>\n",
              "      <td>0</td>\n",
              "      <td>0.058081</td>\n",
              "      <td>0</td>\n",
              "      <td>0.146593</td>\n",
              "      <td>0.005964</td>\n",
              "      <td>1</td>\n",
              "      <td>1</td>\n",
              "      <td>41</td>\n",
              "      <td>0</td>\n",
              "      <td>5559</td>\n",
              "      <td>309</td>\n",
              "      <td>10</td>\n",
              "      <td>0.038835</td>\n",
              "      <td>0.063126</td>\n",
              "    </tr>\n",
              "    <tr>\n",
              "      <th>4</th>\n",
              "      <td>http://www.wired.com/gadgetlab/2011/12/stem-tu...</td>\n",
              "      <td>3589</td>\n",
              "      <td>{\"title\":\"Stem Turns Lemons and Limes Into Jui...</td>\n",
              "      <td>science_technology</td>\n",
              "      <td>0.486363</td>\n",
              "      <td>1.848000</td>\n",
              "      <td>0.470968</td>\n",
              "      <td>0.161290</td>\n",
              "      <td>0.032258</td>\n",
              "      <td>0.000000</td>\n",
              "      <td>0.453757</td>\n",
              "      <td>0.0</td>\n",
              "      <td>0</td>\n",
              "      <td>0.093023</td>\n",
              "      <td>0</td>\n",
              "      <td>0.244141</td>\n",
              "      <td>0.035714</td>\n",
              "      <td>1</td>\n",
              "      <td>0</td>\n",
              "      <td>34</td>\n",
              "      <td>0</td>\n",
              "      <td>2209</td>\n",
              "      <td>155</td>\n",
              "      <td>10</td>\n",
              "      <td>0.096774</td>\n",
              "      <td>0.065341</td>\n",
              "    </tr>\n",
              "  </tbody>\n",
              "</table>\n",
              "</div>"
            ],
            "text/plain": [
              "                                                 url  ...  spelling_errors_ratio\n",
              "0  http://www.lynnskitchenadventures.com/2009/04/...  ...               0.080597\n",
              "1            http://lolpics.se/18552-stun-grenade-ar  ...               0.176471\n",
              "2  http://www.xcelerationfitness.com/treadmills.html  ...               0.125000\n",
              "3  http://www.bloomberg.com/news/2012-02-06/syria...  ...               0.063126\n",
              "4  http://www.wired.com/gadgetlab/2011/12/stem-tu...  ...               0.065341\n",
              "\n",
              "[5 rows x 26 columns]"
            ]
          },
          "metadata": {
            "tags": []
          },
          "execution_count": 34
        }
      ]
    },
    {
      "cell_type": "code",
      "metadata": {
        "id": "j10-eN9yHunG"
      },
      "source": [
        "# clean data.\n",
        "df2['clean_boilerplate'] = df2.boilerplate.apply(clean_text)"
      ],
      "execution_count": 35,
      "outputs": []
    },
    {
      "cell_type": "code",
      "metadata": {
        "id": "Ek2RDBzsH-XF"
      },
      "source": [
        "# write the clean data to a new csv.\n",
        "df2.to_csv('/content/drive/MyDrive/StumbleUponEvergreen/clean_test.csv')"
      ],
      "execution_count": 36,
      "outputs": []
    },
    {
      "cell_type": "code",
      "metadata": {
        "colab": {
          "base_uri": "https://localhost:8080/",
          "height": 400
        },
        "id": "bW6Y1LgAH-Xe",
        "outputId": "37c062e7-1c6f-4a0b-aec2-fb5028c75a6f"
      },
      "source": [
        "df2 = pd.read_csv('/content/drive/MyDrive/StumbleUponEvergreen/clean_test.csv',sep = ',', header = 0)\n",
        "df2.head()"
      ],
      "execution_count": 38,
      "outputs": [
        {
          "output_type": "execute_result",
          "data": {
            "text/html": [
              "<div>\n",
              "<style scoped>\n",
              "    .dataframe tbody tr th:only-of-type {\n",
              "        vertical-align: middle;\n",
              "    }\n",
              "\n",
              "    .dataframe tbody tr th {\n",
              "        vertical-align: top;\n",
              "    }\n",
              "\n",
              "    .dataframe thead th {\n",
              "        text-align: right;\n",
              "    }\n",
              "</style>\n",
              "<table border=\"1\" class=\"dataframe\">\n",
              "  <thead>\n",
              "    <tr style=\"text-align: right;\">\n",
              "      <th></th>\n",
              "      <th>Unnamed: 0</th>\n",
              "      <th>url</th>\n",
              "      <th>urlid</th>\n",
              "      <th>boilerplate</th>\n",
              "      <th>alchemy_category</th>\n",
              "      <th>alchemy_category_score</th>\n",
              "      <th>avglinksize</th>\n",
              "      <th>commonlinkratio_1</th>\n",
              "      <th>commonlinkratio_2</th>\n",
              "      <th>commonlinkratio_3</th>\n",
              "      <th>commonlinkratio_4</th>\n",
              "      <th>compression_ratio</th>\n",
              "      <th>embed_ratio</th>\n",
              "      <th>framebased</th>\n",
              "      <th>frameTagRatio</th>\n",
              "      <th>hasDomainLink</th>\n",
              "      <th>html_ratio</th>\n",
              "      <th>image_ratio</th>\n",
              "      <th>is_news</th>\n",
              "      <th>lengthyLinkDomain</th>\n",
              "      <th>linkwordscore</th>\n",
              "      <th>news_front_page</th>\n",
              "      <th>non_markup_alphanum_characters</th>\n",
              "      <th>numberOfLinks</th>\n",
              "      <th>numwords_in_url</th>\n",
              "      <th>parametrizedLinkRatio</th>\n",
              "      <th>spelling_errors_ratio</th>\n",
              "      <th>clean_boilerplate</th>\n",
              "    </tr>\n",
              "  </thead>\n",
              "  <tbody>\n",
              "    <tr>\n",
              "      <th>0</th>\n",
              "      <td>0</td>\n",
              "      <td>http://www.lynnskitchenadventures.com/2009/04/...</td>\n",
              "      <td>5865</td>\n",
              "      <td>{\"title\":\"Homemade Enchilada Sauce Lynn s Kitc...</td>\n",
              "      <td>recreation</td>\n",
              "      <td>0.443906</td>\n",
              "      <td>2.558140</td>\n",
              "      <td>0.389706</td>\n",
              "      <td>0.257353</td>\n",
              "      <td>0.044118</td>\n",
              "      <td>0.022059</td>\n",
              "      <td>0.489572</td>\n",
              "      <td>0.0</td>\n",
              "      <td>0</td>\n",
              "      <td>0.067143</td>\n",
              "      <td>0</td>\n",
              "      <td>0.230285</td>\n",
              "      <td>0.199438</td>\n",
              "      <td>1</td>\n",
              "      <td>1</td>\n",
              "      <td>15</td>\n",
              "      <td>0</td>\n",
              "      <td>5643</td>\n",
              "      <td>136</td>\n",
              "      <td>3</td>\n",
              "      <td>0.242647</td>\n",
              "      <td>0.080597</td>\n",
              "      <td>usually buy enchilada sauce Yes knew making ne...</td>\n",
              "    </tr>\n",
              "    <tr>\n",
              "      <th>1</th>\n",
              "      <td>1</td>\n",
              "      <td>http://lolpics.se/18552-stun-grenade-ar</td>\n",
              "      <td>782</td>\n",
              "      <td>{\"title\":\"lolpics Stun grenade ar \",\"body\":\" f...</td>\n",
              "      <td>culture_politics</td>\n",
              "      <td>0.135844</td>\n",
              "      <td>3.771429</td>\n",
              "      <td>0.461538</td>\n",
              "      <td>0.205128</td>\n",
              "      <td>0.051282</td>\n",
              "      <td>0.000000</td>\n",
              "      <td>0.782051</td>\n",
              "      <td>0.0</td>\n",
              "      <td>0</td>\n",
              "      <td>0.042857</td>\n",
              "      <td>0</td>\n",
              "      <td>0.365962</td>\n",
              "      <td>0.080000</td>\n",
              "      <td>?</td>\n",
              "      <td>1</td>\n",
              "      <td>62</td>\n",
              "      <td>0</td>\n",
              "      <td>382</td>\n",
              "      <td>39</td>\n",
              "      <td>2</td>\n",
              "      <td>0.128205</td>\n",
              "      <td>0.176471</td>\n",
              "      <td>grenade ar funny se best funny internet funny ...</td>\n",
              "    </tr>\n",
              "    <tr>\n",
              "      <th>2</th>\n",
              "      <td>2</td>\n",
              "      <td>http://www.xcelerationfitness.com/treadmills.html</td>\n",
              "      <td>6962</td>\n",
              "      <td>{\"title\":\"Treadmills \",\"body\":\" treadmills, st...</td>\n",
              "      <td>?</td>\n",
              "      <td>?</td>\n",
              "      <td>2.269565</td>\n",
              "      <td>0.495726</td>\n",
              "      <td>0.384615</td>\n",
              "      <td>0.170940</td>\n",
              "      <td>0.170940</td>\n",
              "      <td>1.250000</td>\n",
              "      <td>0.0</td>\n",
              "      <td>0</td>\n",
              "      <td>0.058824</td>\n",
              "      <td>0</td>\n",
              "      <td>0.161901</td>\n",
              "      <td>10.000000</td>\n",
              "      <td>?</td>\n",
              "      <td>1</td>\n",
              "      <td>42</td>\n",
              "      <td>0</td>\n",
              "      <td>2420</td>\n",
              "      <td>117</td>\n",
              "      <td>1</td>\n",
              "      <td>0.581197</td>\n",
              "      <td>0.125000</td>\n",
              "      <td>stair url</td>\n",
              "    </tr>\n",
              "    <tr>\n",
              "      <th>3</th>\n",
              "      <td>3</td>\n",
              "      <td>http://www.bloomberg.com/news/2012-02-06/syria...</td>\n",
              "      <td>7640</td>\n",
              "      <td>{\"title\":\"Father s Tactics Used by Assad to Cr...</td>\n",
              "      <td>culture_politics</td>\n",
              "      <td>0.90259</td>\n",
              "      <td>2.523490</td>\n",
              "      <td>0.705502</td>\n",
              "      <td>0.346278</td>\n",
              "      <td>0.122977</td>\n",
              "      <td>0.090615</td>\n",
              "      <td>0.449366</td>\n",
              "      <td>0.0</td>\n",
              "      <td>0</td>\n",
              "      <td>0.058081</td>\n",
              "      <td>0</td>\n",
              "      <td>0.146593</td>\n",
              "      <td>0.005964</td>\n",
              "      <td>1</td>\n",
              "      <td>1</td>\n",
              "      <td>41</td>\n",
              "      <td>0</td>\n",
              "      <td>5559</td>\n",
              "      <td>309</td>\n",
              "      <td>10</td>\n",
              "      <td>0.038835</td>\n",
              "      <td>0.063126</td>\n",
              "      <td>Used father used assad threatening Syrian al I...</td>\n",
              "    </tr>\n",
              "    <tr>\n",
              "      <th>4</th>\n",
              "      <td>4</td>\n",
              "      <td>http://www.wired.com/gadgetlab/2011/12/stem-tu...</td>\n",
              "      <td>3589</td>\n",
              "      <td>{\"title\":\"Stem Turns Lemons and Limes Into Jui...</td>\n",
              "      <td>science_technology</td>\n",
              "      <td>0.486363</td>\n",
              "      <td>1.848000</td>\n",
              "      <td>0.470968</td>\n",
              "      <td>0.161290</td>\n",
              "      <td>0.032258</td>\n",
              "      <td>0.000000</td>\n",
              "      <td>0.453757</td>\n",
              "      <td>0.0</td>\n",
              "      <td>0</td>\n",
              "      <td>0.093023</td>\n",
              "      <td>0</td>\n",
              "      <td>0.244141</td>\n",
              "      <td>0.035714</td>\n",
              "      <td>1</td>\n",
              "      <td>0</td>\n",
              "      <td>34</td>\n",
              "      <td>0</td>\n",
              "      <td>2209</td>\n",
              "      <td>155</td>\n",
              "      <td>10</td>\n",
              "      <td>0.096774</td>\n",
              "      <td>0.065341</td>\n",
              "      <td>title turn juicy stem turn lime body turn spra...</td>\n",
              "    </tr>\n",
              "  </tbody>\n",
              "</table>\n",
              "</div>"
            ],
            "text/plain": [
              "   Unnamed: 0  ...                                  clean_boilerplate\n",
              "0           0  ...  usually buy enchilada sauce Yes knew making ne...\n",
              "1           1  ...  grenade ar funny se best funny internet funny ...\n",
              "2           2  ...                                          stair url\n",
              "3           3  ...  Used father used assad threatening Syrian al I...\n",
              "4           4  ...  title turn juicy stem turn lime body turn spra...\n",
              "\n",
              "[5 rows x 28 columns]"
            ]
          },
          "metadata": {
            "tags": []
          },
          "execution_count": 38
        }
      ]
    },
    {
      "cell_type": "code",
      "metadata": {
        "colab": {
          "base_uri": "https://localhost:8080/"
        },
        "id": "GCTceHSOS7wn",
        "outputId": "c9d9cf9a-4f1a-4cbe-b080-ea4f27ff369d"
      },
      "source": [
        "# create and pad test sequences.\n",
        "prediction_sentences = list(df2['clean_boilerplate'].astype(str))\n",
        "print(prediction_sentences[0])"
      ],
      "execution_count": 22,
      "outputs": [
        {
          "output_type": "stream",
          "text": [
            "usually buy enchilada sauce Yes knew making never found really happy tried several good So stuck canned stuff recently talking lived know Mexican asked made told gave exact decided give really good best made great think even better canned sauce could spicier But like enchilada always add chili like really spicy thought really good like change two called green used regular thought worked great probably continue make also pureed wanted smooth sauce If want together blend pretty frugal sauce great make even frugal tomato sauce chopped green undrained cup chopped chili dried oregano minced blender Then place saucepan heated desired free free Like homemade enchilada sauce came friend spent several mexico url homemade enchilada\n"
          ],
          "name": "stdout"
        }
      ]
    },
    {
      "cell_type": "code",
      "metadata": {
        "id": "dwPUDwwkTdSI"
      },
      "source": [
        "prediction_sequences = tokenizer.texts_to_sequences(prediction_sentences)\n",
        "prediction_padded = pad_sequences(prediction_sequences, maxlen=max_length, padding=padding_type, truncating=trunc_type)"
      ],
      "execution_count": 23,
      "outputs": []
    },
    {
      "cell_type": "code",
      "metadata": {
        "id": "CAjHY8PgTsHv"
      },
      "source": [
        "# make predictions.\n",
        "prediction = model.predict(prediction_padded, verbose=0)"
      ],
      "execution_count": 24,
      "outputs": []
    },
    {
      "cell_type": "code",
      "metadata": {
        "colab": {
          "base_uri": "https://localhost:8080/"
        },
        "id": "PlermnxUzX_t",
        "outputId": "ee6263be-d0b5-4b58-a863-00cbee730d06"
      },
      "source": [
        "prediction = np.around(prediction)\n",
        "print(prediction)"
      ],
      "execution_count": 25,
      "outputs": [
        {
          "output_type": "stream",
          "text": [
            "[[1.]\n",
            " [0.]\n",
            " [1.]\n",
            " ...\n",
            " [1.]\n",
            " [1.]\n",
            " [1.]]\n"
          ],
          "name": "stdout"
        }
      ]
    },
    {
      "cell_type": "code",
      "metadata": {
        "colab": {
          "base_uri": "https://localhost:8080/"
        },
        "id": "HKxqyIHozbcq",
        "outputId": "e81096f7-6d0c-4de0-855d-869b50752aaf"
      },
      "source": [
        "# create dataframe of predictions and urlid's.\n",
        "pred_df = pd.DataFrame(prediction, columns=['label'])\n",
        "url_df = pd.DataFrame(data = df2['urlid'], columns=['urlid'])\n",
        "url_df.reset_index(drop = True, inplace = True)\n",
        "pred_df.reset_index(drop = True, inplace = True)\n",
        "len(pred_df)\n"
      ],
      "execution_count": 26,
      "outputs": [
        {
          "output_type": "execute_result",
          "data": {
            "text/plain": [
              "3171"
            ]
          },
          "metadata": {
            "tags": []
          },
          "execution_count": 26
        }
      ]
    },
    {
      "cell_type": "code",
      "metadata": {
        "colab": {
          "base_uri": "https://localhost:8080/",
          "height": 195
        },
        "id": "uihAjDMJ8VvV",
        "outputId": "44a4e387-fd47-42db-ef9c-d1168cf86ba8"
      },
      "source": [
        "url_df.head()"
      ],
      "execution_count": 27,
      "outputs": [
        {
          "output_type": "execute_result",
          "data": {
            "text/html": [
              "<div>\n",
              "<style scoped>\n",
              "    .dataframe tbody tr th:only-of-type {\n",
              "        vertical-align: middle;\n",
              "    }\n",
              "\n",
              "    .dataframe tbody tr th {\n",
              "        vertical-align: top;\n",
              "    }\n",
              "\n",
              "    .dataframe thead th {\n",
              "        text-align: right;\n",
              "    }\n",
              "</style>\n",
              "<table border=\"1\" class=\"dataframe\">\n",
              "  <thead>\n",
              "    <tr style=\"text-align: right;\">\n",
              "      <th></th>\n",
              "      <th>urlid</th>\n",
              "    </tr>\n",
              "  </thead>\n",
              "  <tbody>\n",
              "    <tr>\n",
              "      <th>0</th>\n",
              "      <td>5865</td>\n",
              "    </tr>\n",
              "    <tr>\n",
              "      <th>1</th>\n",
              "      <td>782</td>\n",
              "    </tr>\n",
              "    <tr>\n",
              "      <th>2</th>\n",
              "      <td>6962</td>\n",
              "    </tr>\n",
              "    <tr>\n",
              "      <th>3</th>\n",
              "      <td>7640</td>\n",
              "    </tr>\n",
              "    <tr>\n",
              "      <th>4</th>\n",
              "      <td>3589</td>\n",
              "    </tr>\n",
              "  </tbody>\n",
              "</table>\n",
              "</div>"
            ],
            "text/plain": [
              "   urlid\n",
              "0   5865\n",
              "1    782\n",
              "2   6962\n",
              "3   7640\n",
              "4   3589"
            ]
          },
          "metadata": {
            "tags": []
          },
          "execution_count": 27
        }
      ]
    },
    {
      "cell_type": "code",
      "metadata": {
        "colab": {
          "base_uri": "https://localhost:8080/",
          "height": 195
        },
        "id": "rQyNEHGo2RFg",
        "outputId": "19acf4f8-934c-4620-a4f4-f0e8aefe3584"
      },
      "source": [
        "submission_df = pd.concat([url_df, pred_df], axis=1)\n",
        "submission_df.head()"
      ],
      "execution_count": 28,
      "outputs": [
        {
          "output_type": "execute_result",
          "data": {
            "text/html": [
              "<div>\n",
              "<style scoped>\n",
              "    .dataframe tbody tr th:only-of-type {\n",
              "        vertical-align: middle;\n",
              "    }\n",
              "\n",
              "    .dataframe tbody tr th {\n",
              "        vertical-align: top;\n",
              "    }\n",
              "\n",
              "    .dataframe thead th {\n",
              "        text-align: right;\n",
              "    }\n",
              "</style>\n",
              "<table border=\"1\" class=\"dataframe\">\n",
              "  <thead>\n",
              "    <tr style=\"text-align: right;\">\n",
              "      <th></th>\n",
              "      <th>urlid</th>\n",
              "      <th>label</th>\n",
              "    </tr>\n",
              "  </thead>\n",
              "  <tbody>\n",
              "    <tr>\n",
              "      <th>0</th>\n",
              "      <td>5865</td>\n",
              "      <td>1.0</td>\n",
              "    </tr>\n",
              "    <tr>\n",
              "      <th>1</th>\n",
              "      <td>782</td>\n",
              "      <td>0.0</td>\n",
              "    </tr>\n",
              "    <tr>\n",
              "      <th>2</th>\n",
              "      <td>6962</td>\n",
              "      <td>1.0</td>\n",
              "    </tr>\n",
              "    <tr>\n",
              "      <th>3</th>\n",
              "      <td>7640</td>\n",
              "      <td>0.0</td>\n",
              "    </tr>\n",
              "    <tr>\n",
              "      <th>4</th>\n",
              "      <td>3589</td>\n",
              "      <td>1.0</td>\n",
              "    </tr>\n",
              "  </tbody>\n",
              "</table>\n",
              "</div>"
            ],
            "text/plain": [
              "   urlid  label\n",
              "0   5865    1.0\n",
              "1    782    0.0\n",
              "2   6962    1.0\n",
              "3   7640    0.0\n",
              "4   3589    1.0"
            ]
          },
          "metadata": {
            "tags": []
          },
          "execution_count": 28
        }
      ]
    },
    {
      "cell_type": "code",
      "metadata": {
        "id": "k_lIxQTU28EX"
      },
      "source": [
        "# create a csv of tthe results.\n",
        "submission_df.to_csv('/content/drive/MyDrive/StumbleUponEvergreen/submit.csv',sep= '\\t', index=False)"
      ],
      "execution_count": 33,
      "outputs": []
    },
    {
      "cell_type": "code",
      "metadata": {
        "id": "hLr_RuS5-J7p"
      },
      "source": [
        ""
      ],
      "execution_count": null,
      "outputs": []
    }
  ]
}