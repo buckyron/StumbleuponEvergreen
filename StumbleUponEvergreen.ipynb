{
  "nbformat": 4,
  "nbformat_minor": 0,
  "metadata": {
    "colab": {
      "name": "StumbleUponEvergreen.ipynb",
      "provenance": [],
      "collapsed_sections": []
    },
    "kernelspec": {
      "name": "python3",
      "display_name": "Python 3"
    },
    "accelerator": "GPU"
  },
  "cells": [
    {
      "cell_type": "code",
      "metadata": {
        "id": "_58AM_JO0EIr"
      },
      "source": [
        "from google.colab import drive"
      ],
      "execution_count": 1,
      "outputs": []
    },
    {
      "cell_type": "code",
      "metadata": {
        "colab": {
          "base_uri": "https://localhost:8080/"
        },
        "id": "IUgLO43V2Fq4",
        "outputId": "c1c8310b-36d4-4cba-b143-9acd96eb02ce"
      },
      "source": [
        "drive.mount('/content/drive')"
      ],
      "execution_count": 2,
      "outputs": [
        {
          "output_type": "stream",
          "text": [
            "Drive already mounted at /content/drive; to attempt to forcibly remount, call drive.mount(\"/content/drive\", force_remount=True).\n"
          ],
          "name": "stdout"
        }
      ]
    },
    {
      "cell_type": "code",
      "metadata": {
        "id": "RM_QIQKZ2Ni1"
      },
      "source": [
        "import pandas as pd\n",
        "import numpy as np\n"
      ],
      "execution_count": 3,
      "outputs": []
    },
    {
      "cell_type": "code",
      "metadata": {
        "id": "ddln4919UAST"
      },
      "source": [
        "import tensorflow as tf\n",
        "\n",
        "from tensorflow.keras.preprocessing.text import Tokenizer\n",
        "from tensorflow.keras.preprocessing.sequence import pad_sequences"
      ],
      "execution_count": 4,
      "outputs": []
    },
    {
      "cell_type": "code",
      "metadata": {
        "id": "5w0gqZWsWJjd",
        "colab": {
          "base_uri": "https://localhost:8080/",
          "height": 484
        },
        "outputId": "e1ba8235-9c70-4702-e28e-7bd9eee7f543"
      },
      "source": [
        "df = pd.read_csv('/content/drive/MyDrive/StumbleUponEvergreen/train.tsv',sep = '\\t', header = 0)\n",
        "df.head()"
      ],
      "execution_count": 5,
      "outputs": [
        {
          "output_type": "execute_result",
          "data": {
            "text/html": [
              "<div>\n",
              "<style scoped>\n",
              "    .dataframe tbody tr th:only-of-type {\n",
              "        vertical-align: middle;\n",
              "    }\n",
              "\n",
              "    .dataframe tbody tr th {\n",
              "        vertical-align: top;\n",
              "    }\n",
              "\n",
              "    .dataframe thead th {\n",
              "        text-align: right;\n",
              "    }\n",
              "</style>\n",
              "<table border=\"1\" class=\"dataframe\">\n",
              "  <thead>\n",
              "    <tr style=\"text-align: right;\">\n",
              "      <th></th>\n",
              "      <th>url</th>\n",
              "      <th>urlid</th>\n",
              "      <th>boilerplate</th>\n",
              "      <th>alchemy_category</th>\n",
              "      <th>alchemy_category_score</th>\n",
              "      <th>avglinksize</th>\n",
              "      <th>commonlinkratio_1</th>\n",
              "      <th>commonlinkratio_2</th>\n",
              "      <th>commonlinkratio_3</th>\n",
              "      <th>commonlinkratio_4</th>\n",
              "      <th>compression_ratio</th>\n",
              "      <th>embed_ratio</th>\n",
              "      <th>framebased</th>\n",
              "      <th>frameTagRatio</th>\n",
              "      <th>hasDomainLink</th>\n",
              "      <th>html_ratio</th>\n",
              "      <th>image_ratio</th>\n",
              "      <th>is_news</th>\n",
              "      <th>lengthyLinkDomain</th>\n",
              "      <th>linkwordscore</th>\n",
              "      <th>news_front_page</th>\n",
              "      <th>non_markup_alphanum_characters</th>\n",
              "      <th>numberOfLinks</th>\n",
              "      <th>numwords_in_url</th>\n",
              "      <th>parametrizedLinkRatio</th>\n",
              "      <th>spelling_errors_ratio</th>\n",
              "      <th>label</th>\n",
              "    </tr>\n",
              "  </thead>\n",
              "  <tbody>\n",
              "    <tr>\n",
              "      <th>0</th>\n",
              "      <td>http://www.bloomberg.com/news/2010-12-23/ibm-p...</td>\n",
              "      <td>4042</td>\n",
              "      <td>{\"title\":\"IBM Sees Holographic Calls Air Breat...</td>\n",
              "      <td>business</td>\n",
              "      <td>0.789131</td>\n",
              "      <td>2.055556</td>\n",
              "      <td>0.676471</td>\n",
              "      <td>0.205882</td>\n",
              "      <td>0.047059</td>\n",
              "      <td>0.023529</td>\n",
              "      <td>0.443783</td>\n",
              "      <td>0.0</td>\n",
              "      <td>0</td>\n",
              "      <td>0.090774</td>\n",
              "      <td>0</td>\n",
              "      <td>0.245831</td>\n",
              "      <td>0.003883</td>\n",
              "      <td>1</td>\n",
              "      <td>1</td>\n",
              "      <td>24</td>\n",
              "      <td>0</td>\n",
              "      <td>5424</td>\n",
              "      <td>170</td>\n",
              "      <td>8</td>\n",
              "      <td>0.152941</td>\n",
              "      <td>0.079130</td>\n",
              "      <td>0</td>\n",
              "    </tr>\n",
              "    <tr>\n",
              "      <th>1</th>\n",
              "      <td>http://www.popsci.com/technology/article/2012-...</td>\n",
              "      <td>8471</td>\n",
              "      <td>{\"title\":\"The Fully Electronic Futuristic Star...</td>\n",
              "      <td>recreation</td>\n",
              "      <td>0.574147</td>\n",
              "      <td>3.677966</td>\n",
              "      <td>0.508021</td>\n",
              "      <td>0.288770</td>\n",
              "      <td>0.213904</td>\n",
              "      <td>0.144385</td>\n",
              "      <td>0.468649</td>\n",
              "      <td>0.0</td>\n",
              "      <td>0</td>\n",
              "      <td>0.098707</td>\n",
              "      <td>0</td>\n",
              "      <td>0.203490</td>\n",
              "      <td>0.088652</td>\n",
              "      <td>1</td>\n",
              "      <td>1</td>\n",
              "      <td>40</td>\n",
              "      <td>0</td>\n",
              "      <td>4973</td>\n",
              "      <td>187</td>\n",
              "      <td>9</td>\n",
              "      <td>0.181818</td>\n",
              "      <td>0.125448</td>\n",
              "      <td>1</td>\n",
              "    </tr>\n",
              "    <tr>\n",
              "      <th>2</th>\n",
              "      <td>http://www.menshealth.com/health/flu-fighting-...</td>\n",
              "      <td>1164</td>\n",
              "      <td>{\"title\":\"Fruits that Fight the Flu fruits tha...</td>\n",
              "      <td>health</td>\n",
              "      <td>0.996526</td>\n",
              "      <td>2.382883</td>\n",
              "      <td>0.562016</td>\n",
              "      <td>0.321705</td>\n",
              "      <td>0.120155</td>\n",
              "      <td>0.042636</td>\n",
              "      <td>0.525448</td>\n",
              "      <td>0.0</td>\n",
              "      <td>0</td>\n",
              "      <td>0.072448</td>\n",
              "      <td>0</td>\n",
              "      <td>0.226402</td>\n",
              "      <td>0.120536</td>\n",
              "      <td>1</td>\n",
              "      <td>1</td>\n",
              "      <td>55</td>\n",
              "      <td>0</td>\n",
              "      <td>2240</td>\n",
              "      <td>258</td>\n",
              "      <td>11</td>\n",
              "      <td>0.166667</td>\n",
              "      <td>0.057613</td>\n",
              "      <td>1</td>\n",
              "    </tr>\n",
              "    <tr>\n",
              "      <th>3</th>\n",
              "      <td>http://www.dumblittleman.com/2007/12/10-foolpr...</td>\n",
              "      <td>6684</td>\n",
              "      <td>{\"title\":\"10 Foolproof Tips for Better Sleep \"...</td>\n",
              "      <td>health</td>\n",
              "      <td>0.801248</td>\n",
              "      <td>1.543103</td>\n",
              "      <td>0.400000</td>\n",
              "      <td>0.100000</td>\n",
              "      <td>0.016667</td>\n",
              "      <td>0.000000</td>\n",
              "      <td>0.480725</td>\n",
              "      <td>0.0</td>\n",
              "      <td>0</td>\n",
              "      <td>0.095861</td>\n",
              "      <td>0</td>\n",
              "      <td>0.265656</td>\n",
              "      <td>0.035343</td>\n",
              "      <td>1</td>\n",
              "      <td>0</td>\n",
              "      <td>24</td>\n",
              "      <td>0</td>\n",
              "      <td>2737</td>\n",
              "      <td>120</td>\n",
              "      <td>5</td>\n",
              "      <td>0.041667</td>\n",
              "      <td>0.100858</td>\n",
              "      <td>1</td>\n",
              "    </tr>\n",
              "    <tr>\n",
              "      <th>4</th>\n",
              "      <td>http://bleacherreport.com/articles/1205138-the...</td>\n",
              "      <td>9006</td>\n",
              "      <td>{\"title\":\"The 50 Coolest Jerseys You Didn t Kn...</td>\n",
              "      <td>sports</td>\n",
              "      <td>0.719157</td>\n",
              "      <td>2.676471</td>\n",
              "      <td>0.500000</td>\n",
              "      <td>0.222222</td>\n",
              "      <td>0.123457</td>\n",
              "      <td>0.043210</td>\n",
              "      <td>0.446143</td>\n",
              "      <td>0.0</td>\n",
              "      <td>0</td>\n",
              "      <td>0.024908</td>\n",
              "      <td>0</td>\n",
              "      <td>0.228887</td>\n",
              "      <td>0.050473</td>\n",
              "      <td>1</td>\n",
              "      <td>1</td>\n",
              "      <td>14</td>\n",
              "      <td>0</td>\n",
              "      <td>12032</td>\n",
              "      <td>162</td>\n",
              "      <td>10</td>\n",
              "      <td>0.098765</td>\n",
              "      <td>0.082569</td>\n",
              "      <td>0</td>\n",
              "    </tr>\n",
              "  </tbody>\n",
              "</table>\n",
              "</div>"
            ],
            "text/plain": [
              "                                                 url  ...  label\n",
              "0  http://www.bloomberg.com/news/2010-12-23/ibm-p...  ...      0\n",
              "1  http://www.popsci.com/technology/article/2012-...  ...      1\n",
              "2  http://www.menshealth.com/health/flu-fighting-...  ...      1\n",
              "3  http://www.dumblittleman.com/2007/12/10-foolpr...  ...      1\n",
              "4  http://bleacherreport.com/articles/1205138-the...  ...      0\n",
              "\n",
              "[5 rows x 27 columns]"
            ]
          },
          "metadata": {
            "tags": []
          },
          "execution_count": 5
        }
      ]
    },
    {
      "cell_type": "code",
      "metadata": {
        "colab": {
          "base_uri": "https://localhost:8080/",
          "height": 204
        },
        "id": "X64hLtWLLgQh",
        "outputId": "184cb54d-33f2-42cd-bbf8-1ffa02b86eb8"
      },
      "source": [
        "boilerplates =list(df['boilerplate'].astype(str))\n",
        "labels = list(df.label)\n",
        "print(labels[0])\n",
        "boilerplates[0]\n"
      ],
      "execution_count": 6,
      "outputs": [
        {
          "output_type": "stream",
          "text": [
            "0\n"
          ],
          "name": "stdout"
        },
        {
          "output_type": "execute_result",
          "data": {
            "application/vnd.google.colaboratory.intrinsic+json": {
              "type": "string"
            },
            "text/plain": [
              "'{\"title\":\"IBM Sees Holographic Calls Air Breathing Batteries ibm sees holographic calls, air-breathing batteries\",\"body\":\"A sign stands outside the International Business Machines Corp IBM Almaden Research Center campus in San Jose California Photographer Tony Avelar Bloomberg Buildings stand at the International Business Machines Corp IBM Almaden Research Center campus in the Santa Teresa Hills of San Jose California Photographer Tony Avelar Bloomberg By 2015 your mobile phone will project a 3 D image of anyone who calls and your laptop will be powered by kinetic energy At least that s what International Business Machines Corp sees in its crystal ball The predictions are part of an annual tradition for the Armonk New York based company which surveys its 3 000 researchers to find five ideas expected to take root in the next five years IBM the world s largest provider of computer services looks to Silicon Valley for input gleaning many ideas from its Almaden research center in San Jose California Holographic conversations projected from mobile phones lead this year s list The predictions also include air breathing batteries computer programs that can tell when and where traffic jams will take place environmental information generated by sensors in cars and phones and cities powered by the heat thrown off by computer servers These are all stretch goals and that s good said Paul Saffo managing director of foresight at the investment advisory firm Discern in San Francisco In an era when pessimism is the new black a little dose of technological optimism is not a bad thing For IBM it s not just idle speculation The company is one of the few big corporations investing in long range research projects and it counts on innovation to fuel growth Saffo said Not all of its predictions pan out though IBM was overly optimistic about the spread of speech technology for instance When the ideas do lead to products they can have broad implications for society as well as IBM s bottom line he said Research Spending They have continued to do research when all the other grand research organizations are gone said Saffo who is also a consulting associate professor at Stanford University IBM invested 5 8 billion in research and development last year 6 1 percent of revenue While that s down from about 10 percent in the early 1990s the company spends a bigger share on research than its computing rivals Hewlett Packard Co the top maker of personal computers spent 2 4 percent last year At Almaden scientists work on projects that don t always fit in with IBM s computer business The lab s research includes efforts to develop an electric car battery that runs 500 miles on one charge a filtration system for desalination and a program that shows changes in geographic data IBM rose 9 cents to 146 04 at 11 02 a m in New York Stock Exchange composite trading The stock had gained 11 percent this year before today Citizen Science The list is meant to give a window into the company s innovation engine said Josephine Cheng a vice president at IBM s Almaden lab All this demonstrates a real culture of innovation at IBM and willingness to devote itself to solving some of the world s biggest problems she said Many of the predictions are based on projects that IBM has in the works One of this year s ideas that sensors in cars wallets and personal devices will give scientists better data about the environment is an expansion of the company s citizen science initiative Earlier this year IBM teamed up with the California State Water Resources Control Board and the City of San Jose Environmental Services to help gather information about waterways Researchers from Almaden created an application that lets smartphone users snap photos of streams and creeks and report back on conditions The hope is that these casual observations will help local and state officials who don t have the resources to do the work themselves Traffic Predictors IBM also sees data helping shorten commutes in the next five years Computer programs will use algorithms and real time traffic information to predict which roads will have backups and how to avoid getting stuck Batteries may last 10 times longer in 2015 than today IBM says Rather than using the current lithium ion technology new models could rely on energy dense metals that only need to interact with the air to recharge Some electronic devices might ditch batteries altogether and use something similar to kinetic wristwatches which only need to be shaken to generate a charge The final prediction involves recycling the heat generated by computers and data centers Almost half of the power used by data centers is currently spent keeping the computers cool IBM scientists say it would be better to harness that heat to warm houses and offices In IBM s first list of predictions compiled at the end of 2006 researchers said instantaneous speech translation would become the norm That hasn t happened yet While some programs can quickly translate electronic documents and instant messages and other apps can perform limited speech translation there s nothing widely available that acts like the universal translator in Star Trek Second Life The company also predicted that online immersive environments such as Second Life would become more widespread While immersive video games are as popular as ever Second Life s growth has slowed Internet users are flocking instead to the more 2 D environments of Facebook Inc and Twitter Inc Meanwhile a 2007 prediction that mobile phones will act as a wallet ticket broker concierge bank and shopping assistant is coming true thanks to the explosion of smartphone applications Consumers can pay bills through their banking apps buy movie tickets and get instant feedback on potential purchases all with a few taps on their phones The nice thing about the list is that it provokes thought Saffo said If everything came true they wouldn t be doing their job To contact the reporter on this story Ryan Flinn in San Francisco at rflinn bloomberg net To contact the editor responsible for this story Tom Giles at tgiles5 bloomberg net by 2015, your mobile phone will project a 3-d image of anyone who calls and your laptop will be powered by kinetic energy. at least that\\\\u2019s what international business machines corp. sees in its crystal ball.\",\"url\":\"bloomberg news 2010 12 23 ibm predicts holographic calls air breathing batteries by 2015 html\"}'"
            ]
          },
          "metadata": {
            "tags": []
          },
          "execution_count": 6
        }
      ]
    },
    {
      "cell_type": "code",
      "metadata": {
        "id": "CGBM0Ck9VtiT"
      },
      "source": [
        "vocab_size = 2000\n",
        "embedding_dim = 16\n",
        "max_length = 1500\n",
        "trunc_type='post'\n",
        "padding_type='post'\n",
        "oov_tok = \"<OOV>\"\n",
        "training_size = 5916 #80 percent of the dataset.\n",
        "validation_size = 7025 #15 percent of the dataset."
      ],
      "execution_count": 7,
      "outputs": []
    },
    {
      "cell_type": "code",
      "metadata": {
        "id": "D_OfiCm9E5H_"
      },
      "source": [
        "training_sentences = boilerplates[0:training_size]\n",
        "validation_sentences = boilerplates[training_size:validation_size]\n",
        "testing_sentences = boilerplates[validation_size:]\n",
        "training_labels = labels[0:training_size]\n",
        "validation_labels = labels[training_size:validation_size]\n",
        "testing_labels = labels[validation_size:]"
      ],
      "execution_count": 9,
      "outputs": []
    },
    {
      "cell_type": "code",
      "metadata": {
        "id": "D8ATcPwNFgr1"
      },
      "source": [
        "tokenizer = Tokenizer(num_words=vocab_size, oov_token=oov_tok)\n",
        "tokenizer.fit_on_texts(training_sentences)"
      ],
      "execution_count": 10,
      "outputs": []
    },
    {
      "cell_type": "code",
      "metadata": {
        "id": "7qCsf3FNFmS8"
      },
      "source": [
        "word_index = tokenizer.word_index\n"
      ],
      "execution_count": 11,
      "outputs": []
    },
    {
      "cell_type": "code",
      "metadata": {
        "id": "Bs2CY3-SFqO0"
      },
      "source": [
        "training_sequences = tokenizer.texts_to_sequences(training_sentences)\n",
        "training_padded = pad_sequences(training_sequences, maxlen=max_length, padding=padding_type, truncating=trunc_type)"
      ],
      "execution_count": 12,
      "outputs": []
    },
    {
      "cell_type": "code",
      "metadata": {
        "id": "ocXr9gpHFtmo"
      },
      "source": [
        "validation_sequences = tokenizer.texts_to_sequences(validation_sentences)\n",
        "validation_padded = pad_sequences(validation_sequences, maxlen=max_length, padding=padding_type, truncating=trunc_type)"
      ],
      "execution_count": 13,
      "outputs": []
    },
    {
      "cell_type": "code",
      "metadata": {
        "id": "lrcSClNtnpqi"
      },
      "source": [
        "testing_sequences = tokenizer.texts_to_sequences(testing_sentences)\n",
        "testing_padded = pad_sequences(testing_sequences, maxlen=max_length, padding=padding_type, truncating=trunc_type)"
      ],
      "execution_count": 14,
      "outputs": []
    },
    {
      "cell_type": "code",
      "metadata": {
        "id": "x_YnpxxBFxGq"
      },
      "source": [
        "model = tf.keras.Sequential([\n",
        "    tf.keras.layers.Embedding(vocab_size, embedding_dim, input_length=max_length),\n",
        "    tf.keras.layers.Bidirectional(tf.keras.layers.LSTM(32)),\n",
        "    tf.keras.layers.Dense(24, activation='relu'),\n",
        "    tf.keras.layers.Dense(1, activation='sigmoid')\n",
        "])\n",
        "model.compile(loss='binary_crossentropy',optimizer='adam',metrics=['accuracy'])"
      ],
      "execution_count": 15,
      "outputs": []
    },
    {
      "cell_type": "code",
      "metadata": {
        "colab": {
          "base_uri": "https://localhost:8080/"
        },
        "id": "83dG-4UmF5wG",
        "outputId": "9c7a4789-36fe-4747-ca82-441029c762f4"
      },
      "source": [
        "model.summary()"
      ],
      "execution_count": 16,
      "outputs": [
        {
          "output_type": "stream",
          "text": [
            "Model: \"sequential\"\n",
            "_________________________________________________________________\n",
            "Layer (type)                 Output Shape              Param #   \n",
            "=================================================================\n",
            "embedding (Embedding)        (None, 1500, 16)          32000     \n",
            "_________________________________________________________________\n",
            "bidirectional (Bidirectional (None, 64)                12544     \n",
            "_________________________________________________________________\n",
            "dense (Dense)                (None, 24)                1560      \n",
            "_________________________________________________________________\n",
            "dense_1 (Dense)              (None, 1)                 25        \n",
            "=================================================================\n",
            "Total params: 46,129\n",
            "Trainable params: 46,129\n",
            "Non-trainable params: 0\n",
            "_________________________________________________________________\n"
          ],
          "name": "stdout"
        }
      ]
    },
    {
      "cell_type": "code",
      "metadata": {
        "colab": {
          "base_uri": "https://localhost:8080/"
        },
        "id": "kRKex2IxF8MZ",
        "outputId": "923a0205-10ef-4ec3-dc67-9e560303cc89"
      },
      "source": [
        "with tf.device('/device:GPU:0'):\n",
        "  num_epochs = 50\n",
        "  training_padded = np.array(training_padded)\n",
        "  training_labels = np.array(training_labels)\n",
        "  validation_padded = np.array(validation_padded)\n",
        "  validation_labels = np.array(validation_labels)\n",
        "  history = model.fit(training_padded, training_labels, epochs=num_epochs, validation_data=(validation_padded, validation_labels), verbose=1)\n"
      ],
      "execution_count": 17,
      "outputs": [
        {
          "output_type": "stream",
          "text": [
            "Epoch 1/50\n",
            "185/185 [==============================] - 19s 84ms/step - loss: 0.6709 - accuracy: 0.5681 - val_loss: 0.4921 - val_accuracy: 0.7773\n",
            "Epoch 2/50\n",
            "185/185 [==============================] - 15s 81ms/step - loss: 0.4462 - accuracy: 0.8070 - val_loss: 0.4785 - val_accuracy: 0.7899\n",
            "Epoch 3/50\n",
            "185/185 [==============================] - 15s 80ms/step - loss: 0.4156 - accuracy: 0.8219 - val_loss: 0.4742 - val_accuracy: 0.7836\n",
            "Epoch 4/50\n",
            "185/185 [==============================] - 15s 81ms/step - loss: 0.3624 - accuracy: 0.8567 - val_loss: 0.4839 - val_accuracy: 0.7818\n",
            "Epoch 5/50\n",
            "185/185 [==============================] - 15s 80ms/step - loss: 0.3590 - accuracy: 0.8572 - val_loss: 0.5113 - val_accuracy: 0.7800\n",
            "Epoch 6/50\n",
            "185/185 [==============================] - 15s 80ms/step - loss: 0.3269 - accuracy: 0.8719 - val_loss: 0.5035 - val_accuracy: 0.7656\n",
            "Epoch 7/50\n",
            "185/185 [==============================] - 15s 81ms/step - loss: 0.3217 - accuracy: 0.8776 - val_loss: 0.5178 - val_accuracy: 0.7746\n",
            "Epoch 8/50\n",
            "185/185 [==============================] - 15s 81ms/step - loss: 0.3076 - accuracy: 0.8878 - val_loss: 0.5564 - val_accuracy: 0.7556\n",
            "Epoch 9/50\n",
            "185/185 [==============================] - 15s 80ms/step - loss: 0.2797 - accuracy: 0.8950 - val_loss: 0.5721 - val_accuracy: 0.7511\n",
            "Epoch 10/50\n",
            "185/185 [==============================] - 15s 80ms/step - loss: 0.2676 - accuracy: 0.9009 - val_loss: 0.6363 - val_accuracy: 0.7665\n",
            "Epoch 11/50\n",
            "185/185 [==============================] - 15s 81ms/step - loss: 0.2769 - accuracy: 0.8969 - val_loss: 0.6470 - val_accuracy: 0.7601\n",
            "Epoch 12/50\n",
            "185/185 [==============================] - 15s 80ms/step - loss: 0.2570 - accuracy: 0.9047 - val_loss: 0.6670 - val_accuracy: 0.7574\n",
            "Epoch 13/50\n",
            "185/185 [==============================] - 15s 82ms/step - loss: 0.2202 - accuracy: 0.9196 - val_loss: 0.7223 - val_accuracy: 0.7583\n",
            "Epoch 14/50\n",
            "185/185 [==============================] - 15s 80ms/step - loss: 0.2260 - accuracy: 0.9197 - val_loss: 0.7359 - val_accuracy: 0.7520\n",
            "Epoch 15/50\n",
            "185/185 [==============================] - 15s 81ms/step - loss: 0.2294 - accuracy: 0.9100 - val_loss: 0.8055 - val_accuracy: 0.7574\n",
            "Epoch 16/50\n",
            "185/185 [==============================] - 15s 81ms/step - loss: 0.2433 - accuracy: 0.9070 - val_loss: 0.6709 - val_accuracy: 0.7196\n",
            "Epoch 17/50\n",
            "185/185 [==============================] - 15s 81ms/step - loss: 0.2794 - accuracy: 0.8943 - val_loss: 0.6868 - val_accuracy: 0.7538\n",
            "Epoch 18/50\n",
            "185/185 [==============================] - 15s 82ms/step - loss: 0.2158 - accuracy: 0.9242 - val_loss: 0.7121 - val_accuracy: 0.7529\n",
            "Epoch 19/50\n",
            "185/185 [==============================] - 15s 82ms/step - loss: 0.2209 - accuracy: 0.9203 - val_loss: 0.7669 - val_accuracy: 0.7313\n",
            "Epoch 20/50\n",
            "185/185 [==============================] - 15s 83ms/step - loss: 0.2049 - accuracy: 0.9296 - val_loss: 0.8581 - val_accuracy: 0.7403\n",
            "Epoch 21/50\n",
            "185/185 [==============================] - 15s 83ms/step - loss: 0.1827 - accuracy: 0.9385 - val_loss: 0.8758 - val_accuracy: 0.7304\n",
            "Epoch 22/50\n",
            "185/185 [==============================] - 15s 83ms/step - loss: 0.1802 - accuracy: 0.9319 - val_loss: 0.8709 - val_accuracy: 0.7457\n",
            "Epoch 23/50\n",
            "185/185 [==============================] - 15s 82ms/step - loss: 0.2238 - accuracy: 0.9155 - val_loss: 0.8358 - val_accuracy: 0.7376\n",
            "Epoch 24/50\n",
            "185/185 [==============================] - 15s 82ms/step - loss: 0.2384 - accuracy: 0.9093 - val_loss: 0.9992 - val_accuracy: 0.7349\n",
            "Epoch 25/50\n",
            "185/185 [==============================] - 15s 82ms/step - loss: 0.2304 - accuracy: 0.9224 - val_loss: 0.9062 - val_accuracy: 0.7349\n",
            "Epoch 26/50\n",
            "185/185 [==============================] - 15s 82ms/step - loss: 0.1853 - accuracy: 0.9328 - val_loss: 0.9373 - val_accuracy: 0.7241\n",
            "Epoch 27/50\n",
            "185/185 [==============================] - 15s 82ms/step - loss: 0.1678 - accuracy: 0.9350 - val_loss: 0.9453 - val_accuracy: 0.7430\n",
            "Epoch 28/50\n",
            "185/185 [==============================] - 15s 82ms/step - loss: 0.1783 - accuracy: 0.9406 - val_loss: 1.0393 - val_accuracy: 0.7304\n",
            "Epoch 29/50\n",
            "185/185 [==============================] - 15s 82ms/step - loss: 0.1769 - accuracy: 0.9364 - val_loss: 0.8678 - val_accuracy: 0.7412\n",
            "Epoch 30/50\n",
            "185/185 [==============================] - 15s 82ms/step - loss: 0.1792 - accuracy: 0.9403 - val_loss: 0.8953 - val_accuracy: 0.7295\n",
            "Epoch 31/50\n",
            "185/185 [==============================] - 15s 82ms/step - loss: 0.1710 - accuracy: 0.9431 - val_loss: 1.0491 - val_accuracy: 0.7367\n",
            "Epoch 32/50\n",
            "185/185 [==============================] - 15s 82ms/step - loss: 0.1715 - accuracy: 0.9419 - val_loss: 1.1046 - val_accuracy: 0.7313\n",
            "Epoch 33/50\n",
            "185/185 [==============================] - 15s 83ms/step - loss: 0.1445 - accuracy: 0.9483 - val_loss: 1.1593 - val_accuracy: 0.7367\n",
            "Epoch 34/50\n",
            "185/185 [==============================] - 15s 82ms/step - loss: 0.1429 - accuracy: 0.9509 - val_loss: 1.2322 - val_accuracy: 0.7259\n",
            "Epoch 35/50\n",
            "185/185 [==============================] - 15s 82ms/step - loss: 0.3464 - accuracy: 0.8726 - val_loss: 0.7366 - val_accuracy: 0.7520\n",
            "Epoch 36/50\n",
            "185/185 [==============================] - 15s 82ms/step - loss: 0.1970 - accuracy: 0.9302 - val_loss: 0.8672 - val_accuracy: 0.7394\n",
            "Epoch 37/50\n",
            "185/185 [==============================] - 15s 82ms/step - loss: 0.1428 - accuracy: 0.9504 - val_loss: 1.0211 - val_accuracy: 0.7367\n",
            "Epoch 38/50\n",
            "185/185 [==============================] - 15s 82ms/step - loss: 0.1362 - accuracy: 0.9532 - val_loss: 1.1336 - val_accuracy: 0.7403\n",
            "Epoch 39/50\n",
            "185/185 [==============================] - 15s 82ms/step - loss: 0.1013 - accuracy: 0.9659 - val_loss: 1.2051 - val_accuracy: 0.7277\n",
            "Epoch 40/50\n",
            "185/185 [==============================] - 15s 82ms/step - loss: 0.0933 - accuracy: 0.9667 - val_loss: 1.2077 - val_accuracy: 0.7394\n",
            "Epoch 41/50\n",
            "185/185 [==============================] - 15s 82ms/step - loss: 0.1079 - accuracy: 0.9646 - val_loss: 1.1739 - val_accuracy: 0.7214\n",
            "Epoch 42/50\n",
            "185/185 [==============================] - 15s 83ms/step - loss: 0.1153 - accuracy: 0.9613 - val_loss: 1.3878 - val_accuracy: 0.7322\n",
            "Epoch 43/50\n",
            "185/185 [==============================] - 15s 82ms/step - loss: 0.0959 - accuracy: 0.9676 - val_loss: 1.6539 - val_accuracy: 0.7205\n",
            "Epoch 44/50\n",
            "185/185 [==============================] - 15s 82ms/step - loss: 0.1118 - accuracy: 0.9620 - val_loss: 1.3551 - val_accuracy: 0.7331\n",
            "Epoch 45/50\n",
            "185/185 [==============================] - 15s 82ms/step - loss: 0.0787 - accuracy: 0.9708 - val_loss: 1.4017 - val_accuracy: 0.7376\n",
            "Epoch 46/50\n",
            "185/185 [==============================] - 15s 82ms/step - loss: 0.0733 - accuracy: 0.9697 - val_loss: 1.3182 - val_accuracy: 0.7304\n",
            "Epoch 47/50\n",
            "185/185 [==============================] - 15s 82ms/step - loss: 0.0866 - accuracy: 0.9691 - val_loss: 1.4658 - val_accuracy: 0.7286\n",
            "Epoch 48/50\n",
            "185/185 [==============================] - 15s 82ms/step - loss: 0.0729 - accuracy: 0.9750 - val_loss: 1.4603 - val_accuracy: 0.7295\n",
            "Epoch 49/50\n",
            "185/185 [==============================] - 15s 82ms/step - loss: 0.0821 - accuracy: 0.9700 - val_loss: 1.3636 - val_accuracy: 0.7358\n",
            "Epoch 50/50\n",
            "185/185 [==============================] - 15s 82ms/step - loss: 0.0810 - accuracy: 0.9716 - val_loss: 1.3963 - val_accuracy: 0.7277\n"
          ],
          "name": "stdout"
        }
      ]
    },
    {
      "cell_type": "code",
      "metadata": {
        "colab": {
          "base_uri": "https://localhost:8080/"
        },
        "id": "wTZ8PhyYnhfU",
        "outputId": "6c6f446d-be19-4106-a975-fda5ac27f2b9"
      },
      "source": [
        "testing_padded = np.array(testing_padded)\n",
        "testing_labels = np.array(testing_labels)\n",
        "loss, accuracy = model.evaluate(testing_padded, testing_labels)"
      ],
      "execution_count": 19,
      "outputs": [
        {
          "output_type": "stream",
          "text": [
            "12/12 [==============================] - 1s 45ms/step - loss: 1.3299 - accuracy: 0.7486\n"
          ],
          "name": "stdout"
        }
      ]
    },
    {
      "cell_type": "code",
      "metadata": {
        "id": "2ZvPYW3ws_Dn"
      },
      "source": [
        "model.save('/content/drive/MyDrive/StumbleUponEvergreen/model.h5')"
      ],
      "execution_count": 20,
      "outputs": []
    },
    {
      "cell_type": "code",
      "metadata": {
        "colab": {
          "base_uri": "https://localhost:8080/",
          "height": 383
        },
        "id": "iKAAysGqHg9f",
        "outputId": "cc6f29cc-e528-42c6-a372-3c8b12e2a176"
      },
      "source": [
        "df2 = pd.read_csv('/content/drive/MyDrive/StumbleUponEvergreen/test.tsv',sep = '\\t', header = 0)\n",
        "df2.head()\n"
      ],
      "execution_count": 21,
      "outputs": [
        {
          "output_type": "execute_result",
          "data": {
            "text/html": [
              "<div>\n",
              "<style scoped>\n",
              "    .dataframe tbody tr th:only-of-type {\n",
              "        vertical-align: middle;\n",
              "    }\n",
              "\n",
              "    .dataframe tbody tr th {\n",
              "        vertical-align: top;\n",
              "    }\n",
              "\n",
              "    .dataframe thead th {\n",
              "        text-align: right;\n",
              "    }\n",
              "</style>\n",
              "<table border=\"1\" class=\"dataframe\">\n",
              "  <thead>\n",
              "    <tr style=\"text-align: right;\">\n",
              "      <th></th>\n",
              "      <th>url</th>\n",
              "      <th>urlid</th>\n",
              "      <th>boilerplate</th>\n",
              "      <th>alchemy_category</th>\n",
              "      <th>alchemy_category_score</th>\n",
              "      <th>avglinksize</th>\n",
              "      <th>commonlinkratio_1</th>\n",
              "      <th>commonlinkratio_2</th>\n",
              "      <th>commonlinkratio_3</th>\n",
              "      <th>commonlinkratio_4</th>\n",
              "      <th>compression_ratio</th>\n",
              "      <th>embed_ratio</th>\n",
              "      <th>framebased</th>\n",
              "      <th>frameTagRatio</th>\n",
              "      <th>hasDomainLink</th>\n",
              "      <th>html_ratio</th>\n",
              "      <th>image_ratio</th>\n",
              "      <th>is_news</th>\n",
              "      <th>lengthyLinkDomain</th>\n",
              "      <th>linkwordscore</th>\n",
              "      <th>news_front_page</th>\n",
              "      <th>non_markup_alphanum_characters</th>\n",
              "      <th>numberOfLinks</th>\n",
              "      <th>numwords_in_url</th>\n",
              "      <th>parametrizedLinkRatio</th>\n",
              "      <th>spelling_errors_ratio</th>\n",
              "    </tr>\n",
              "  </thead>\n",
              "  <tbody>\n",
              "    <tr>\n",
              "      <th>0</th>\n",
              "      <td>http://www.lynnskitchenadventures.com/2009/04/...</td>\n",
              "      <td>5865</td>\n",
              "      <td>{\"title\":\"Homemade Enchilada Sauce Lynn s Kitc...</td>\n",
              "      <td>recreation</td>\n",
              "      <td>0.443906</td>\n",
              "      <td>2.558140</td>\n",
              "      <td>0.389706</td>\n",
              "      <td>0.257353</td>\n",
              "      <td>0.044118</td>\n",
              "      <td>0.022059</td>\n",
              "      <td>0.489572</td>\n",
              "      <td>0.0</td>\n",
              "      <td>0</td>\n",
              "      <td>0.067143</td>\n",
              "      <td>0</td>\n",
              "      <td>0.230285</td>\n",
              "      <td>0.199438</td>\n",
              "      <td>1</td>\n",
              "      <td>1</td>\n",
              "      <td>15</td>\n",
              "      <td>0</td>\n",
              "      <td>5643</td>\n",
              "      <td>136</td>\n",
              "      <td>3</td>\n",
              "      <td>0.242647</td>\n",
              "      <td>0.080597</td>\n",
              "    </tr>\n",
              "    <tr>\n",
              "      <th>1</th>\n",
              "      <td>http://lolpics.se/18552-stun-grenade-ar</td>\n",
              "      <td>782</td>\n",
              "      <td>{\"title\":\"lolpics Stun grenade ar \",\"body\":\" f...</td>\n",
              "      <td>culture_politics</td>\n",
              "      <td>0.135844</td>\n",
              "      <td>3.771429</td>\n",
              "      <td>0.461538</td>\n",
              "      <td>0.205128</td>\n",
              "      <td>0.051282</td>\n",
              "      <td>0.000000</td>\n",
              "      <td>0.782051</td>\n",
              "      <td>0.0</td>\n",
              "      <td>0</td>\n",
              "      <td>0.042857</td>\n",
              "      <td>0</td>\n",
              "      <td>0.365962</td>\n",
              "      <td>0.080000</td>\n",
              "      <td>?</td>\n",
              "      <td>1</td>\n",
              "      <td>62</td>\n",
              "      <td>0</td>\n",
              "      <td>382</td>\n",
              "      <td>39</td>\n",
              "      <td>2</td>\n",
              "      <td>0.128205</td>\n",
              "      <td>0.176471</td>\n",
              "    </tr>\n",
              "    <tr>\n",
              "      <th>2</th>\n",
              "      <td>http://www.xcelerationfitness.com/treadmills.html</td>\n",
              "      <td>6962</td>\n",
              "      <td>{\"title\":\"Treadmills \",\"body\":\" treadmills, st...</td>\n",
              "      <td>?</td>\n",
              "      <td>?</td>\n",
              "      <td>2.269565</td>\n",
              "      <td>0.495726</td>\n",
              "      <td>0.384615</td>\n",
              "      <td>0.170940</td>\n",
              "      <td>0.170940</td>\n",
              "      <td>1.250000</td>\n",
              "      <td>0.0</td>\n",
              "      <td>0</td>\n",
              "      <td>0.058824</td>\n",
              "      <td>0</td>\n",
              "      <td>0.161901</td>\n",
              "      <td>10.000000</td>\n",
              "      <td>?</td>\n",
              "      <td>1</td>\n",
              "      <td>42</td>\n",
              "      <td>0</td>\n",
              "      <td>2420</td>\n",
              "      <td>117</td>\n",
              "      <td>1</td>\n",
              "      <td>0.581197</td>\n",
              "      <td>0.125000</td>\n",
              "    </tr>\n",
              "    <tr>\n",
              "      <th>3</th>\n",
              "      <td>http://www.bloomberg.com/news/2012-02-06/syria...</td>\n",
              "      <td>7640</td>\n",
              "      <td>{\"title\":\"Father s Tactics Used by Assad to Cr...</td>\n",
              "      <td>culture_politics</td>\n",
              "      <td>0.90259</td>\n",
              "      <td>2.523490</td>\n",
              "      <td>0.705502</td>\n",
              "      <td>0.346278</td>\n",
              "      <td>0.122977</td>\n",
              "      <td>0.090615</td>\n",
              "      <td>0.449366</td>\n",
              "      <td>0.0</td>\n",
              "      <td>0</td>\n",
              "      <td>0.058081</td>\n",
              "      <td>0</td>\n",
              "      <td>0.146593</td>\n",
              "      <td>0.005964</td>\n",
              "      <td>1</td>\n",
              "      <td>1</td>\n",
              "      <td>41</td>\n",
              "      <td>0</td>\n",
              "      <td>5559</td>\n",
              "      <td>309</td>\n",
              "      <td>10</td>\n",
              "      <td>0.038835</td>\n",
              "      <td>0.063126</td>\n",
              "    </tr>\n",
              "    <tr>\n",
              "      <th>4</th>\n",
              "      <td>http://www.wired.com/gadgetlab/2011/12/stem-tu...</td>\n",
              "      <td>3589</td>\n",
              "      <td>{\"title\":\"Stem Turns Lemons and Limes Into Jui...</td>\n",
              "      <td>science_technology</td>\n",
              "      <td>0.486363</td>\n",
              "      <td>1.848000</td>\n",
              "      <td>0.470968</td>\n",
              "      <td>0.161290</td>\n",
              "      <td>0.032258</td>\n",
              "      <td>0.000000</td>\n",
              "      <td>0.453757</td>\n",
              "      <td>0.0</td>\n",
              "      <td>0</td>\n",
              "      <td>0.093023</td>\n",
              "      <td>0</td>\n",
              "      <td>0.244141</td>\n",
              "      <td>0.035714</td>\n",
              "      <td>1</td>\n",
              "      <td>0</td>\n",
              "      <td>34</td>\n",
              "      <td>0</td>\n",
              "      <td>2209</td>\n",
              "      <td>155</td>\n",
              "      <td>10</td>\n",
              "      <td>0.096774</td>\n",
              "      <td>0.065341</td>\n",
              "    </tr>\n",
              "  </tbody>\n",
              "</table>\n",
              "</div>"
            ],
            "text/plain": [
              "                                                 url  ...  spelling_errors_ratio\n",
              "0  http://www.lynnskitchenadventures.com/2009/04/...  ...               0.080597\n",
              "1            http://lolpics.se/18552-stun-grenade-ar  ...               0.176471\n",
              "2  http://www.xcelerationfitness.com/treadmills.html  ...               0.125000\n",
              "3  http://www.bloomberg.com/news/2012-02-06/syria...  ...               0.063126\n",
              "4  http://www.wired.com/gadgetlab/2011/12/stem-tu...  ...               0.065341\n",
              "\n",
              "[5 rows x 26 columns]"
            ]
          },
          "metadata": {
            "tags": []
          },
          "execution_count": 21
        }
      ]
    },
    {
      "cell_type": "code",
      "metadata": {
        "colab": {
          "base_uri": "https://localhost:8080/"
        },
        "id": "GCTceHSOS7wn",
        "outputId": "1b26333d-4bfd-4baf-c8f6-947a7f24b831"
      },
      "source": [
        "prediction_sentences = list(df2['boilerplate'].astype(str))\n",
        "print(prediction_sentences[0])"
      ],
      "execution_count": 23,
      "outputs": [
        {
          "output_type": "stream",
          "text": [
            "{\"title\":\"Homemade Enchilada Sauce Lynn s Kitchen Adventures \",\"body\":\"I usually buy my enchilada sauce Yes I knew I should be making it but I had never found a recipe that I was really happy with I had tried several and they just weren t very good So I stuck to the canned stuff you can get at the grocery store I was recently talking to a friend of mine about this She lived in Mexico for a few years so she knows some about Mexican cooking I asked her how she made her enchilada sauce She told me the basics and then gave me an exact recipe I decided to give it a try This recipe was really good This was the best enchilada sauce that I have made It had great flavor I think it was even better than the canned sauce My husband thought it could have been spicier But he likes his enchiladas spicy You can always add more chili powder or chilies if you like it really spicy The kids and I thought it was really good just like it is I did change two things It called for green onions I did not have any so I used regular onions I thought they worked great so I will probably continue to make it this way I also pureed everything in the blender I wanted a very smooth sauce If you want it more chunky just mix the ingredients together and do not blend Enchiladas are a pretty frugal meal and homemade enchilada sauce is a great way to make enchiladas even more frugal 2 8 ounce cans tomato sauce 1 4 ounce can chopped green chilies undrained 1 2 cup onion chopped 2 teaspoons chili powder 1 teaspoon ground cumin 1 4 teaspoon dried oregano 1 clove garlic minced Combine all tomato sauce ingredients and place in a blender Puree ingredients Then place in a saucepan Heat over medium heat until heated through about 5 minutes Use as desired for enchiladas Get your free Quick Easy Breakfasts ebook Just subscribe for free email updates from Lynn s Kitchen Adventures Like this article Share it this homemade enchilada sauce recipe came from a friend of mine who spent several years in mexico.\",\"url\":\"lynnskitchenadventures 2009 04 homemade enchilada sauce html\"}\n"
          ],
          "name": "stdout"
        }
      ]
    },
    {
      "cell_type": "code",
      "metadata": {
        "id": "dwPUDwwkTdSI"
      },
      "source": [
        "prediction_sequences = tokenizer.texts_to_sequences(prediction_sentences)\n",
        "prediction_padded = pad_sequences(prediction_sequences, maxlen=max_length, padding=padding_type, truncating=trunc_type)"
      ],
      "execution_count": 24,
      "outputs": []
    },
    {
      "cell_type": "code",
      "metadata": {
        "id": "CAjHY8PgTsHv"
      },
      "source": [
        "prediction = model.predict(prediction_padded, verbose=0)"
      ],
      "execution_count": 25,
      "outputs": []
    },
    {
      "cell_type": "code",
      "metadata": {
        "colab": {
          "base_uri": "https://localhost:8080/"
        },
        "id": "PlermnxUzX_t",
        "outputId": "d89a74da-5007-4c73-d31f-65c80fbd7ff3"
      },
      "source": [
        "prediction = np.around(prediction)\n",
        "print(prediction)"
      ],
      "execution_count": 28,
      "outputs": [
        {
          "output_type": "stream",
          "text": [
            "[[1.]\n",
            " [0.]\n",
            " [1.]\n",
            " ...\n",
            " [1.]\n",
            " [1.]\n",
            " [0.]]\n"
          ],
          "name": "stdout"
        }
      ]
    },
    {
      "cell_type": "code",
      "metadata": {
        "colab": {
          "base_uri": "https://localhost:8080/"
        },
        "id": "HKxqyIHozbcq",
        "outputId": "c0a8adf2-d088-4810-f55e-a4d83a7cc1a5"
      },
      "source": [
        "pred_df = pd.DataFrame(prediction, columns=['label'])\n",
        "url_df = pd.DataFrame(data = df2['urlid'], columns=['urlid'])\n",
        "url_df.reset_index(drop = True, inplace = True)\n",
        "pred_df.reset_index(drop = True, inplace = True)\n",
        "len(pred_df)\n"
      ],
      "execution_count": 61,
      "outputs": [
        {
          "output_type": "execute_result",
          "data": {
            "text/plain": [
              "3171"
            ]
          },
          "metadata": {
            "tags": []
          },
          "execution_count": 61
        }
      ]
    },
    {
      "cell_type": "code",
      "metadata": {
        "colab": {
          "base_uri": "https://localhost:8080/",
          "height": 195
        },
        "id": "uihAjDMJ8VvV",
        "outputId": "234971b4-797c-41ba-83a9-3aa06ff9ccd9"
      },
      "source": [
        "url_df.head()"
      ],
      "execution_count": 62,
      "outputs": [
        {
          "output_type": "execute_result",
          "data": {
            "text/html": [
              "<div>\n",
              "<style scoped>\n",
              "    .dataframe tbody tr th:only-of-type {\n",
              "        vertical-align: middle;\n",
              "    }\n",
              "\n",
              "    .dataframe tbody tr th {\n",
              "        vertical-align: top;\n",
              "    }\n",
              "\n",
              "    .dataframe thead th {\n",
              "        text-align: right;\n",
              "    }\n",
              "</style>\n",
              "<table border=\"1\" class=\"dataframe\">\n",
              "  <thead>\n",
              "    <tr style=\"text-align: right;\">\n",
              "      <th></th>\n",
              "      <th>urlid</th>\n",
              "    </tr>\n",
              "  </thead>\n",
              "  <tbody>\n",
              "    <tr>\n",
              "      <th>0</th>\n",
              "      <td>5865</td>\n",
              "    </tr>\n",
              "    <tr>\n",
              "      <th>1</th>\n",
              "      <td>782</td>\n",
              "    </tr>\n",
              "    <tr>\n",
              "      <th>2</th>\n",
              "      <td>6962</td>\n",
              "    </tr>\n",
              "    <tr>\n",
              "      <th>3</th>\n",
              "      <td>7640</td>\n",
              "    </tr>\n",
              "    <tr>\n",
              "      <th>4</th>\n",
              "      <td>3589</td>\n",
              "    </tr>\n",
              "  </tbody>\n",
              "</table>\n",
              "</div>"
            ],
            "text/plain": [
              "   urlid\n",
              "0   5865\n",
              "1    782\n",
              "2   6962\n",
              "3   7640\n",
              "4   3589"
            ]
          },
          "metadata": {
            "tags": []
          },
          "execution_count": 62
        }
      ]
    },
    {
      "cell_type": "code",
      "metadata": {
        "colab": {
          "base_uri": "https://localhost:8080/",
          "height": 195
        },
        "id": "rQyNEHGo2RFg",
        "outputId": "846bc9b8-fd93-4216-a00c-e9bd84749d76"
      },
      "source": [
        "submission_df = pd.concat([url_df, pred_df], axis=1)\n",
        "submission_df.head()"
      ],
      "execution_count": 63,
      "outputs": [
        {
          "output_type": "execute_result",
          "data": {
            "text/html": [
              "<div>\n",
              "<style scoped>\n",
              "    .dataframe tbody tr th:only-of-type {\n",
              "        vertical-align: middle;\n",
              "    }\n",
              "\n",
              "    .dataframe tbody tr th {\n",
              "        vertical-align: top;\n",
              "    }\n",
              "\n",
              "    .dataframe thead th {\n",
              "        text-align: right;\n",
              "    }\n",
              "</style>\n",
              "<table border=\"1\" class=\"dataframe\">\n",
              "  <thead>\n",
              "    <tr style=\"text-align: right;\">\n",
              "      <th></th>\n",
              "      <th>urlid</th>\n",
              "      <th>label</th>\n",
              "    </tr>\n",
              "  </thead>\n",
              "  <tbody>\n",
              "    <tr>\n",
              "      <th>0</th>\n",
              "      <td>5865</td>\n",
              "      <td>1.0</td>\n",
              "    </tr>\n",
              "    <tr>\n",
              "      <th>1</th>\n",
              "      <td>782</td>\n",
              "      <td>0.0</td>\n",
              "    </tr>\n",
              "    <tr>\n",
              "      <th>2</th>\n",
              "      <td>6962</td>\n",
              "      <td>1.0</td>\n",
              "    </tr>\n",
              "    <tr>\n",
              "      <th>3</th>\n",
              "      <td>7640</td>\n",
              "      <td>0.0</td>\n",
              "    </tr>\n",
              "    <tr>\n",
              "      <th>4</th>\n",
              "      <td>3589</td>\n",
              "      <td>0.0</td>\n",
              "    </tr>\n",
              "  </tbody>\n",
              "</table>\n",
              "</div>"
            ],
            "text/plain": [
              "   urlid  label\n",
              "0   5865    1.0\n",
              "1    782    0.0\n",
              "2   6962    1.0\n",
              "3   7640    0.0\n",
              "4   3589    0.0"
            ]
          },
          "metadata": {
            "tags": []
          },
          "execution_count": 63
        }
      ]
    },
    {
      "cell_type": "code",
      "metadata": {
        "id": "k_lIxQTU28EX"
      },
      "source": [
        "df.to_csv('/content/drive/MyDrive/StumbleUponEvergreen/sampleSubmission.csv')"
      ],
      "execution_count": 64,
      "outputs": []
    },
    {
      "cell_type": "code",
      "metadata": {
        "id": "hLr_RuS5-J7p"
      },
      "source": [
        ""
      ],
      "execution_count": null,
      "outputs": []
    }
  ]
}